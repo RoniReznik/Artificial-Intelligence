{
 "cells": [
  {
   "cell_type": "markdown",
   "metadata": {},
   "source": [
    "This dataset gives a number of variables along with a target condition of having or not having heart disease. It contains 76 attributes, but all published experiments refer to using a subset of 14 of them. In particular, the Cleveland database is the only one that has been used by ML researchers to this date. The \"goal\" field refers to the presence of heart disease in the patient."
   ]
  },
  {
   "cell_type": "markdown",
   "metadata": {},
   "source": [
    "### Imports"
   ]
  },
  {
   "cell_type": "code",
   "execution_count": 1,
   "metadata": {},
   "outputs": [],
   "source": [
    "# import numpy and pandas for data manipulation\n",
    "import numpy as np\n",
    "import pandas as pd\n",
    "\n",
    "# import sklearn for dealing with categorical features\n",
    "from sklearn.preprocessing import LabelEncoder\n",
    "\n",
    "# split the data set for training, validation set, and use cross validation\n",
    "from sklearn.model_selection import train_test_split, cross_val_score, StratifiedKFold\n",
    "\n",
    "\n",
    "# model evaluation\n",
    "from sklearn.metrics import accuracy_score, confusion_matrix, roc_curve, auc\n",
    "\n",
    "# scale the data\n",
    "from sklearn.preprocessing import MinMaxScaler\n",
    "\n",
    "# File system management\n",
    "import os\n",
    "\n",
    "# no warnings\n",
    "import warnings\n",
    "warnings.filterwarnings('ignore')\n",
    "\n",
    "# matplotlib ans seaborn for plotting\n",
    "import matplotlib.pyplot as plt\n",
    "%matplotlib inline\n",
    "import seaborn as sns; sns.set()\n",
    "\n",
    "\n",
    "# classification algorithms\n",
    "from sklearn.ensemble import RandomForestClassifier\n",
    "from sklearn.svm import SVC\n",
    "from sklearn.linear_model import LogisticRegression\n",
    "from sklearn.discriminant_analysis import LinearDiscriminantAnalysis\n",
    "\n",
    "# feature selection algorithms\n",
    "from sklearn.feature_selection import f_classif,chi2, mutual_info_classif, SelectKBest"
   ]
  },
  {
   "cell_type": "markdown",
   "metadata": {},
   "source": [
    "### Lets read the data"
   ]
  },
  {
   "cell_type": "code",
   "execution_count": 2,
   "metadata": {},
   "outputs": [
    {
     "name": "stdout",
     "output_type": "stream",
     "text": [
      "Data shape (303, 14)\n"
     ]
    },
    {
     "data": {
      "text/html": [
       "<div>\n",
       "<style scoped>\n",
       "    .dataframe tbody tr th:only-of-type {\n",
       "        vertical-align: middle;\n",
       "    }\n",
       "\n",
       "    .dataframe tbody tr th {\n",
       "        vertical-align: top;\n",
       "    }\n",
       "\n",
       "    .dataframe thead th {\n",
       "        text-align: right;\n",
       "    }\n",
       "</style>\n",
       "<table border=\"1\" class=\"dataframe\">\n",
       "  <thead>\n",
       "    <tr style=\"text-align: right;\">\n",
       "      <th></th>\n",
       "      <th>age</th>\n",
       "      <th>sex</th>\n",
       "      <th>cp</th>\n",
       "      <th>trestbps</th>\n",
       "      <th>chol</th>\n",
       "      <th>fbs</th>\n",
       "      <th>restecg</th>\n",
       "      <th>thalach</th>\n",
       "      <th>exang</th>\n",
       "      <th>oldpeak</th>\n",
       "      <th>slope</th>\n",
       "      <th>ca</th>\n",
       "      <th>thal</th>\n",
       "      <th>target</th>\n",
       "    </tr>\n",
       "  </thead>\n",
       "  <tbody>\n",
       "    <tr>\n",
       "      <td>0</td>\n",
       "      <td>63</td>\n",
       "      <td>1</td>\n",
       "      <td>3</td>\n",
       "      <td>145</td>\n",
       "      <td>233</td>\n",
       "      <td>1</td>\n",
       "      <td>0</td>\n",
       "      <td>150</td>\n",
       "      <td>0</td>\n",
       "      <td>2.3</td>\n",
       "      <td>0</td>\n",
       "      <td>0</td>\n",
       "      <td>1</td>\n",
       "      <td>1</td>\n",
       "    </tr>\n",
       "    <tr>\n",
       "      <td>1</td>\n",
       "      <td>37</td>\n",
       "      <td>1</td>\n",
       "      <td>2</td>\n",
       "      <td>130</td>\n",
       "      <td>250</td>\n",
       "      <td>0</td>\n",
       "      <td>1</td>\n",
       "      <td>187</td>\n",
       "      <td>0</td>\n",
       "      <td>3.5</td>\n",
       "      <td>0</td>\n",
       "      <td>0</td>\n",
       "      <td>2</td>\n",
       "      <td>1</td>\n",
       "    </tr>\n",
       "    <tr>\n",
       "      <td>2</td>\n",
       "      <td>41</td>\n",
       "      <td>0</td>\n",
       "      <td>1</td>\n",
       "      <td>130</td>\n",
       "      <td>204</td>\n",
       "      <td>0</td>\n",
       "      <td>0</td>\n",
       "      <td>172</td>\n",
       "      <td>0</td>\n",
       "      <td>1.4</td>\n",
       "      <td>2</td>\n",
       "      <td>0</td>\n",
       "      <td>2</td>\n",
       "      <td>1</td>\n",
       "    </tr>\n",
       "    <tr>\n",
       "      <td>3</td>\n",
       "      <td>56</td>\n",
       "      <td>1</td>\n",
       "      <td>1</td>\n",
       "      <td>120</td>\n",
       "      <td>236</td>\n",
       "      <td>0</td>\n",
       "      <td>1</td>\n",
       "      <td>178</td>\n",
       "      <td>0</td>\n",
       "      <td>0.8</td>\n",
       "      <td>2</td>\n",
       "      <td>0</td>\n",
       "      <td>2</td>\n",
       "      <td>1</td>\n",
       "    </tr>\n",
       "    <tr>\n",
       "      <td>4</td>\n",
       "      <td>57</td>\n",
       "      <td>0</td>\n",
       "      <td>0</td>\n",
       "      <td>120</td>\n",
       "      <td>354</td>\n",
       "      <td>0</td>\n",
       "      <td>1</td>\n",
       "      <td>163</td>\n",
       "      <td>1</td>\n",
       "      <td>0.6</td>\n",
       "      <td>2</td>\n",
       "      <td>0</td>\n",
       "      <td>2</td>\n",
       "      <td>1</td>\n",
       "    </tr>\n",
       "  </tbody>\n",
       "</table>\n",
       "</div>"
      ],
      "text/plain": [
       "   age  sex  cp  trestbps  chol  fbs  restecg  thalach  exang  oldpeak  slope  \\\n",
       "0   63    1   3       145   233    1        0      150      0      2.3      0   \n",
       "1   37    1   2       130   250    0        1      187      0      3.5      0   \n",
       "2   41    0   1       130   204    0        0      172      0      1.4      2   \n",
       "3   56    1   1       120   236    0        1      178      0      0.8      2   \n",
       "4   57    0   0       120   354    0        1      163      1      0.6      2   \n",
       "\n",
       "   ca  thal  target  \n",
       "0   0     1       1  \n",
       "1   0     2       1  \n",
       "2   0     2       1  \n",
       "3   0     2       1  \n",
       "4   0     2       1  "
      ]
     },
     "execution_count": 2,
     "metadata": {},
     "output_type": "execute_result"
    }
   ],
   "source": [
    "df = pd.read_csv('heart.csv')\n",
    "print(f'Data shape {df.shape}')\n",
    "df.head(5)"
   ]
  },
  {
   "cell_type": "markdown",
   "metadata": {},
   "source": [
    "### Exploratory Data Analysis"
   ]
  },
  {
   "cell_type": "markdown",
   "metadata": {},
   "source": [
    "#### Target"
   ]
  },
  {
   "cell_type": "code",
   "execution_count": 3,
   "metadata": {
    "scrolled": true
   },
   "outputs": [
    {
     "data": {
      "text/plain": [
       "1    165\n",
       "0    138\n",
       "Name: target, dtype: int64"
      ]
     },
     "execution_count": 3,
     "metadata": {},
     "output_type": "execute_result"
    }
   ],
   "source": [
    "df['target'].value_counts()"
   ]
  },
  {
   "cell_type": "code",
   "execution_count": 4,
   "metadata": {},
   "outputs": [
    {
     "data": {
      "image/png": "[encoded data removed]",
      "text/plain": [
       "<Figure size 432x288 with 1 Axes>"
      ]
     },
     "metadata": {
      "needs_background": "light"
     },
     "output_type": "display_data"
    }
   ],
   "source": [
    "sns.distplot(df['target'],rug=True)\n",
    "plt.show()"
   ]
  },
  {
   "cell_type": "code",
   "execution_count": 5,
   "metadata": {
    "scrolled": true
   },
   "outputs": [
    {
     "data": {
      "image/png": "[encoded data removed]",
      "text/plain": [
       "<Figure size 432x288 with 1 Axes>"
      ]
     },
     "metadata": {
      "needs_background": "light"
     },
     "output_type": "display_data"
    }
   ],
   "source": [
    "sns.countplot(x='target', data=df, palette=\"bwr\")\n",
    "plt.show()"
   ]
  },
  {
   "cell_type": "markdown",
   "metadata": {},
   "source": [
    "We can see the the distribution of the targets is balanced! "
   ]
  },
  {
   "cell_type": "markdown",
   "metadata": {},
   "source": [
    "#### Age"
   ]
  },
  {
   "cell_type": "code",
   "execution_count": 6,
   "metadata": {
    "scrolled": true
   },
   "outputs": [
    {
     "data": {
      "image/png": "[encoded data removed]",
      "text/plain": [
       "<Figure size 432x288 with 1 Axes>"
      ]
     },
     "metadata": {
      "needs_background": "light"
     },
     "output_type": "display_data"
    }
   ],
   "source": [
    "sns.distplot(df['age'], rug=True)\n",
    "plt.show()"
   ]
  },
  {
   "cell_type": "markdown",
   "metadata": {},
   "source": [
    "#### Sex"
   ]
  },
  {
   "cell_type": "code",
   "execution_count": 7,
   "metadata": {},
   "outputs": [
    {
     "data": {
      "image/png": "[encoded data removed]",
      "text/plain": [
       "<Figure size 720x360 with 1 Axes>"
      ]
     },
     "metadata": {
      "needs_background": "light"
     },
     "output_type": "display_data"
    }
   ],
   "source": [
    "pd.crosstab(df.sex, df.target).plot(kind='bar', figsize=(10,5))\n",
    "plt.xlabel('Sex (0 = Female, 1 = Male)')\n",
    "plt.xticks(rotation=0)\n",
    "plt.ylabel('Frequency')\n",
    "plt.show()"
   ]
  },
  {
   "cell_type": "markdown",
   "metadata": {},
   "source": [
    "### Missing Values"
   ]
  },
  {
   "cell_type": "code",
   "execution_count": 4,
   "metadata": {},
   "outputs": [],
   "source": [
    "def missing_values_table(df):\n",
    "    \n",
    "    miss_values = df.isna().sum()\n",
    "    \n",
    "    miss_values_percent = 100 * df.isna().sum() / len(df)\n",
    "    \n",
    "    miss_values_table = pd.concat([miss_values, miss_values_percent], axis=1)\n",
    "    \n",
    "    miss_values_table = miss_values_table.rename(columns = {0 : 'Missing values', 1 : '% of total values'})\n",
    "    \n",
    "    miss_values_table = miss_values_table[miss_values_table.iloc[:,1] != 0].sort_values('% of total values', ascending=False).round(1)\n",
    "    \n",
    "    print('The data have ' + str(df.shape[1]) + ' features.\\n'\n",
    "          'There are ' + str(miss_values_table.shape[0]) + ' features with missing values')\n",
    "    \n",
    "    return miss_values_table"
   ]
  },
  {
   "cell_type": "code",
   "execution_count": 5,
   "metadata": {},
   "outputs": [
    {
     "name": "stdout",
     "output_type": "stream",
     "text": [
      "The data have 14 features.\n",
      "There are 0 features with missing values\n"
     ]
    },
    {
     "data": {
      "text/html": [
       "<div>\n",
       "<style scoped>\n",
       "    .dataframe tbody tr th:only-of-type {\n",
       "        vertical-align: middle;\n",
       "    }\n",
       "\n",
       "    .dataframe tbody tr th {\n",
       "        vertical-align: top;\n",
       "    }\n",
       "\n",
       "    .dataframe thead th {\n",
       "        text-align: right;\n",
       "    }\n",
       "</style>\n",
       "<table border=\"1\" class=\"dataframe\">\n",
       "  <thead>\n",
       "    <tr style=\"text-align: right;\">\n",
       "      <th></th>\n",
       "      <th>Missing values</th>\n",
       "      <th>% of total values</th>\n",
       "    </tr>\n",
       "  </thead>\n",
       "  <tbody>\n",
       "  </tbody>\n",
       "</table>\n",
       "</div>"
      ],
      "text/plain": [
       "Empty DataFrame\n",
       "Columns: [Missing values, % of total values]\n",
       "Index: []"
      ]
     },
     "execution_count": 5,
     "metadata": {},
     "output_type": "execute_result"
    }
   ],
   "source": [
    "missing_values_table(df)"
   ]
  },
  {
   "cell_type": "markdown",
   "metadata": {},
   "source": [
    "### Column Types"
   ]
  },
  {
   "cell_type": "code",
   "execution_count": 6,
   "metadata": {},
   "outputs": [
    {
     "data": {
      "text/plain": [
       "int64      13\n",
       "float64     1\n",
       "dtype: int64"
      ]
     },
     "execution_count": 6,
     "metadata": {},
     "output_type": "execute_result"
    }
   ],
   "source": [
    "df.dtypes.value_counts()"
   ]
  },
  {
   "cell_type": "code",
   "execution_count": 7,
   "metadata": {},
   "outputs": [
    {
     "data": {
      "text/plain": [
       "oldpeak    40\n",
       "dtype: int64"
      ]
     },
     "execution_count": 7,
     "metadata": {},
     "output_type": "execute_result"
    }
   ],
   "source": [
    "df.select_dtypes('float64').apply(pd.Series.nunique, axis = 0)"
   ]
  },
  {
   "cell_type": "code",
   "execution_count": 8,
   "metadata": {
    "scrolled": false
   },
   "outputs": [
    {
     "data": {
      "text/plain": [
       "age          41\n",
       "sex           2\n",
       "cp            4\n",
       "trestbps     49\n",
       "chol        152\n",
       "fbs           2\n",
       "restecg       3\n",
       "thalach      91\n",
       "exang         2\n",
       "slope         3\n",
       "ca            5\n",
       "thal          4\n",
       "target        2\n",
       "dtype: int64"
      ]
     },
     "execution_count": 8,
     "metadata": {},
     "output_type": "execute_result"
    }
   ],
   "source": [
    "df.select_dtypes('int64').apply(pd.Series.nunique, axis = 0)"
   ]
  },
  {
   "cell_type": "markdown",
   "metadata": {},
   "source": [
    "### One-Hot encoding"
   ]
  },
  {
   "cell_type": "markdown",
   "metadata": {},
   "source": [
    "Our categorical features are already with label encoding. Due to small features space and small labels we will use one \n",
    "hot encoding for more information about our features."
   ]
  },
  {
   "cell_type": "code",
   "execution_count": 9,
   "metadata": {},
   "outputs": [],
   "source": [
    "cat_features = []\n",
    "def extract_cat_features(df):\n",
    "    for i in df.columns:\n",
    "        if len(df[i].unique()) > 2 and len(df[i].unique()) < 10:\n",
    "            cat_features.append(i)\n",
    "        else:\n",
    "            continue\n",
    "extract_cat_features(df)"
   ]
  },
  {
   "cell_type": "code",
   "execution_count": 10,
   "metadata": {
    "scrolled": true
   },
   "outputs": [
    {
     "data": {
      "text/html": [
       "<div>\n",
       "<style scoped>\n",
       "    .dataframe tbody tr th:only-of-type {\n",
       "        vertical-align: middle;\n",
       "    }\n",
       "\n",
       "    .dataframe tbody tr th {\n",
       "        vertical-align: top;\n",
       "    }\n",
       "\n",
       "    .dataframe thead th {\n",
       "        text-align: right;\n",
       "    }\n",
       "</style>\n",
       "<table border=\"1\" class=\"dataframe\">\n",
       "  <thead>\n",
       "    <tr style=\"text-align: right;\">\n",
       "      <th></th>\n",
       "      <th>age</th>\n",
       "      <th>sex</th>\n",
       "      <th>trestbps</th>\n",
       "      <th>chol</th>\n",
       "      <th>fbs</th>\n",
       "      <th>thalach</th>\n",
       "      <th>exang</th>\n",
       "      <th>oldpeak</th>\n",
       "      <th>target</th>\n",
       "      <th>cp_1</th>\n",
       "      <th>...</th>\n",
       "      <th>restecg_2</th>\n",
       "      <th>slope_1</th>\n",
       "      <th>slope_2</th>\n",
       "      <th>ca_1</th>\n",
       "      <th>ca_2</th>\n",
       "      <th>ca_3</th>\n",
       "      <th>ca_4</th>\n",
       "      <th>thal_1</th>\n",
       "      <th>thal_2</th>\n",
       "      <th>thal_3</th>\n",
       "    </tr>\n",
       "  </thead>\n",
       "  <tbody>\n",
       "    <tr>\n",
       "      <td>0</td>\n",
       "      <td>63</td>\n",
       "      <td>1</td>\n",
       "      <td>145</td>\n",
       "      <td>233</td>\n",
       "      <td>1</td>\n",
       "      <td>150</td>\n",
       "      <td>0</td>\n",
       "      <td>2.3</td>\n",
       "      <td>1</td>\n",
       "      <td>0</td>\n",
       "      <td>...</td>\n",
       "      <td>0</td>\n",
       "      <td>0</td>\n",
       "      <td>0</td>\n",
       "      <td>0</td>\n",
       "      <td>0</td>\n",
       "      <td>0</td>\n",
       "      <td>0</td>\n",
       "      <td>1</td>\n",
       "      <td>0</td>\n",
       "      <td>0</td>\n",
       "    </tr>\n",
       "    <tr>\n",
       "      <td>1</td>\n",
       "      <td>37</td>\n",
       "      <td>1</td>\n",
       "      <td>130</td>\n",
       "      <td>250</td>\n",
       "      <td>0</td>\n",
       "      <td>187</td>\n",
       "      <td>0</td>\n",
       "      <td>3.5</td>\n",
       "      <td>1</td>\n",
       "      <td>0</td>\n",
       "      <td>...</td>\n",
       "      <td>0</td>\n",
       "      <td>0</td>\n",
       "      <td>0</td>\n",
       "      <td>0</td>\n",
       "      <td>0</td>\n",
       "      <td>0</td>\n",
       "      <td>0</td>\n",
       "      <td>0</td>\n",
       "      <td>1</td>\n",
       "      <td>0</td>\n",
       "    </tr>\n",
       "    <tr>\n",
       "      <td>2</td>\n",
       "      <td>41</td>\n",
       "      <td>0</td>\n",
       "      <td>130</td>\n",
       "      <td>204</td>\n",
       "      <td>0</td>\n",
       "      <td>172</td>\n",
       "      <td>0</td>\n",
       "      <td>1.4</td>\n",
       "      <td>1</td>\n",
       "      <td>1</td>\n",
       "      <td>...</td>\n",
       "      <td>0</td>\n",
       "      <td>0</td>\n",
       "      <td>1</td>\n",
       "      <td>0</td>\n",
       "      <td>0</td>\n",
       "      <td>0</td>\n",
       "      <td>0</td>\n",
       "      <td>0</td>\n",
       "      <td>1</td>\n",
       "      <td>0</td>\n",
       "    </tr>\n",
       "    <tr>\n",
       "      <td>3</td>\n",
       "      <td>56</td>\n",
       "      <td>1</td>\n",
       "      <td>120</td>\n",
       "      <td>236</td>\n",
       "      <td>0</td>\n",
       "      <td>178</td>\n",
       "      <td>0</td>\n",
       "      <td>0.8</td>\n",
       "      <td>1</td>\n",
       "      <td>1</td>\n",
       "      <td>...</td>\n",
       "      <td>0</td>\n",
       "      <td>0</td>\n",
       "      <td>1</td>\n",
       "      <td>0</td>\n",
       "      <td>0</td>\n",
       "      <td>0</td>\n",
       "      <td>0</td>\n",
       "      <td>0</td>\n",
       "      <td>1</td>\n",
       "      <td>0</td>\n",
       "    </tr>\n",
       "    <tr>\n",
       "      <td>4</td>\n",
       "      <td>57</td>\n",
       "      <td>0</td>\n",
       "      <td>120</td>\n",
       "      <td>354</td>\n",
       "      <td>0</td>\n",
       "      <td>163</td>\n",
       "      <td>1</td>\n",
       "      <td>0.6</td>\n",
       "      <td>1</td>\n",
       "      <td>0</td>\n",
       "      <td>...</td>\n",
       "      <td>0</td>\n",
       "      <td>0</td>\n",
       "      <td>1</td>\n",
       "      <td>0</td>\n",
       "      <td>0</td>\n",
       "      <td>0</td>\n",
       "      <td>0</td>\n",
       "      <td>0</td>\n",
       "      <td>1</td>\n",
       "      <td>0</td>\n",
       "    </tr>\n",
       "  </tbody>\n",
       "</table>\n",
       "<p>5 rows × 23 columns</p>\n",
       "</div>"
      ],
      "text/plain": [
       "   age  sex  trestbps  chol  fbs  thalach  exang  oldpeak  target  cp_1  ...  \\\n",
       "0   63    1       145   233    1      150      0      2.3       1     0  ...   \n",
       "1   37    1       130   250    0      187      0      3.5       1     0  ...   \n",
       "2   41    0       130   204    0      172      0      1.4       1     1  ...   \n",
       "3   56    1       120   236    0      178      0      0.8       1     1  ...   \n",
       "4   57    0       120   354    0      163      1      0.6       1     0  ...   \n",
       "\n",
       "   restecg_2  slope_1  slope_2  ca_1  ca_2  ca_3  ca_4  thal_1  thal_2  thal_3  \n",
       "0          0        0        0     0     0     0     0       1       0       0  \n",
       "1          0        0        0     0     0     0     0       0       1       0  \n",
       "2          0        0        1     0     0     0     0       0       1       0  \n",
       "3          0        0        1     0     0     0     0       0       1       0  \n",
       "4          0        0        1     0     0     0     0       0       1       0  \n",
       "\n",
       "[5 rows x 23 columns]"
      ]
     },
     "execution_count": 10,
     "metadata": {},
     "output_type": "execute_result"
    }
   ],
   "source": [
    "df = pd.get_dummies(data=df, columns=cat_features, drop_first=True)\n",
    "df.head()"
   ]
  },
  {
   "cell_type": "code",
   "execution_count": 12,
   "metadata": {},
   "outputs": [],
   "source": [
    "col_at_end = ['target']\n",
    "df = df[[c for c in df if c not in col_at_end] + [c for c in col_at_end if c in df]]"
   ]
  },
  {
   "cell_type": "code",
   "execution_count": 13,
   "metadata": {
    "scrolled": true
   },
   "outputs": [
    {
     "data": {
      "text/html": [
       "<div>\n",
       "<style scoped>\n",
       "    .dataframe tbody tr th:only-of-type {\n",
       "        vertical-align: middle;\n",
       "    }\n",
       "\n",
       "    .dataframe tbody tr th {\n",
       "        vertical-align: top;\n",
       "    }\n",
       "\n",
       "    .dataframe thead th {\n",
       "        text-align: right;\n",
       "    }\n",
       "</style>\n",
       "<table border=\"1\" class=\"dataframe\">\n",
       "  <thead>\n",
       "    <tr style=\"text-align: right;\">\n",
       "      <th></th>\n",
       "      <th>age</th>\n",
       "      <th>sex</th>\n",
       "      <th>trestbps</th>\n",
       "      <th>chol</th>\n",
       "      <th>fbs</th>\n",
       "      <th>thalach</th>\n",
       "      <th>exang</th>\n",
       "      <th>oldpeak</th>\n",
       "      <th>cp_1</th>\n",
       "      <th>cp_2</th>\n",
       "      <th>...</th>\n",
       "      <th>slope_1</th>\n",
       "      <th>slope_2</th>\n",
       "      <th>ca_1</th>\n",
       "      <th>ca_2</th>\n",
       "      <th>ca_3</th>\n",
       "      <th>ca_4</th>\n",
       "      <th>thal_1</th>\n",
       "      <th>thal_2</th>\n",
       "      <th>thal_3</th>\n",
       "      <th>target</th>\n",
       "    </tr>\n",
       "  </thead>\n",
       "  <tbody>\n",
       "    <tr>\n",
       "      <td>0</td>\n",
       "      <td>63</td>\n",
       "      <td>1</td>\n",
       "      <td>145</td>\n",
       "      <td>233</td>\n",
       "      <td>1</td>\n",
       "      <td>150</td>\n",
       "      <td>0</td>\n",
       "      <td>2.3</td>\n",
       "      <td>0</td>\n",
       "      <td>0</td>\n",
       "      <td>...</td>\n",
       "      <td>0</td>\n",
       "      <td>0</td>\n",
       "      <td>0</td>\n",
       "      <td>0</td>\n",
       "      <td>0</td>\n",
       "      <td>0</td>\n",
       "      <td>1</td>\n",
       "      <td>0</td>\n",
       "      <td>0</td>\n",
       "      <td>1</td>\n",
       "    </tr>\n",
       "    <tr>\n",
       "      <td>1</td>\n",
       "      <td>37</td>\n",
       "      <td>1</td>\n",
       "      <td>130</td>\n",
       "      <td>250</td>\n",
       "      <td>0</td>\n",
       "      <td>187</td>\n",
       "      <td>0</td>\n",
       "      <td>3.5</td>\n",
       "      <td>0</td>\n",
       "      <td>1</td>\n",
       "      <td>...</td>\n",
       "      <td>0</td>\n",
       "      <td>0</td>\n",
       "      <td>0</td>\n",
       "      <td>0</td>\n",
       "      <td>0</td>\n",
       "      <td>0</td>\n",
       "      <td>0</td>\n",
       "      <td>1</td>\n",
       "      <td>0</td>\n",
       "      <td>1</td>\n",
       "    </tr>\n",
       "    <tr>\n",
       "      <td>2</td>\n",
       "      <td>41</td>\n",
       "      <td>0</td>\n",
       "      <td>130</td>\n",
       "      <td>204</td>\n",
       "      <td>0</td>\n",
       "      <td>172</td>\n",
       "      <td>0</td>\n",
       "      <td>1.4</td>\n",
       "      <td>1</td>\n",
       "      <td>0</td>\n",
       "      <td>...</td>\n",
       "      <td>0</td>\n",
       "      <td>1</td>\n",
       "      <td>0</td>\n",
       "      <td>0</td>\n",
       "      <td>0</td>\n",
       "      <td>0</td>\n",
       "      <td>0</td>\n",
       "      <td>1</td>\n",
       "      <td>0</td>\n",
       "      <td>1</td>\n",
       "    </tr>\n",
       "    <tr>\n",
       "      <td>3</td>\n",
       "      <td>56</td>\n",
       "      <td>1</td>\n",
       "      <td>120</td>\n",
       "      <td>236</td>\n",
       "      <td>0</td>\n",
       "      <td>178</td>\n",
       "      <td>0</td>\n",
       "      <td>0.8</td>\n",
       "      <td>1</td>\n",
       "      <td>0</td>\n",
       "      <td>...</td>\n",
       "      <td>0</td>\n",
       "      <td>1</td>\n",
       "      <td>0</td>\n",
       "      <td>0</td>\n",
       "      <td>0</td>\n",
       "      <td>0</td>\n",
       "      <td>0</td>\n",
       "      <td>1</td>\n",
       "      <td>0</td>\n",
       "      <td>1</td>\n",
       "    </tr>\n",
       "    <tr>\n",
       "      <td>4</td>\n",
       "      <td>57</td>\n",
       "      <td>0</td>\n",
       "      <td>120</td>\n",
       "      <td>354</td>\n",
       "      <td>0</td>\n",
       "      <td>163</td>\n",
       "      <td>1</td>\n",
       "      <td>0.6</td>\n",
       "      <td>0</td>\n",
       "      <td>0</td>\n",
       "      <td>...</td>\n",
       "      <td>0</td>\n",
       "      <td>1</td>\n",
       "      <td>0</td>\n",
       "      <td>0</td>\n",
       "      <td>0</td>\n",
       "      <td>0</td>\n",
       "      <td>0</td>\n",
       "      <td>1</td>\n",
       "      <td>0</td>\n",
       "      <td>1</td>\n",
       "    </tr>\n",
       "  </tbody>\n",
       "</table>\n",
       "<p>5 rows × 23 columns</p>\n",
       "</div>"
      ],
      "text/plain": [
       "   age  sex  trestbps  chol  fbs  thalach  exang  oldpeak  cp_1  cp_2  ...  \\\n",
       "0   63    1       145   233    1      150      0      2.3     0     0  ...   \n",
       "1   37    1       130   250    0      187      0      3.5     0     1  ...   \n",
       "2   41    0       130   204    0      172      0      1.4     1     0  ...   \n",
       "3   56    1       120   236    0      178      0      0.8     1     0  ...   \n",
       "4   57    0       120   354    0      163      1      0.6     0     0  ...   \n",
       "\n",
       "   slope_1  slope_2  ca_1  ca_2  ca_3  ca_4  thal_1  thal_2  thal_3  target  \n",
       "0        0        0     0     0     0     0       1       0       0       1  \n",
       "1        0        0     0     0     0     0       0       1       0       1  \n",
       "2        0        1     0     0     0     0       0       1       0       1  \n",
       "3        0        1     0     0     0     0       0       1       0       1  \n",
       "4        0        1     0     0     0     0       0       1       0       1  \n",
       "\n",
       "[5 rows x 23 columns]"
      ]
     },
     "execution_count": 13,
     "metadata": {},
     "output_type": "execute_result"
    }
   ],
   "source": [
    "df.head()"
   ]
  },
  {
   "cell_type": "markdown",
   "metadata": {},
   "source": [
    "### Scaling"
   ]
  },
  {
   "cell_type": "code",
   "execution_count": 14,
   "metadata": {},
   "outputs": [],
   "source": [
    "scaler = MinMaxScaler()\n",
    "df_scaled = scaler.fit_transform(df.iloc[:,:-1].values)\n",
    "df = pd.DataFrame(data=np.concatenate((df_scaled, df.iloc[:,-1].values.reshape((-1,1))), axis=1), columns=df.columns.to_list())"
   ]
  },
  {
   "cell_type": "code",
   "execution_count": 11,
   "metadata": {
    "scrolled": true
   },
   "outputs": [
    {
     "data": {
      "text/html": [
       "<div>\n",
       "<style scoped>\n",
       "    .dataframe tbody tr th:only-of-type {\n",
       "        vertical-align: middle;\n",
       "    }\n",
       "\n",
       "    .dataframe tbody tr th {\n",
       "        vertical-align: top;\n",
       "    }\n",
       "\n",
       "    .dataframe thead th {\n",
       "        text-align: right;\n",
       "    }\n",
       "</style>\n",
       "<table border=\"1\" class=\"dataframe\">\n",
       "  <thead>\n",
       "    <tr style=\"text-align: right;\">\n",
       "      <th></th>\n",
       "      <th>age</th>\n",
       "      <th>sex</th>\n",
       "      <th>trestbps</th>\n",
       "      <th>chol</th>\n",
       "      <th>fbs</th>\n",
       "      <th>thalach</th>\n",
       "      <th>exang</th>\n",
       "      <th>oldpeak</th>\n",
       "      <th>cp_1</th>\n",
       "      <th>cp_2</th>\n",
       "      <th>...</th>\n",
       "      <th>slope_1</th>\n",
       "      <th>slope_2</th>\n",
       "      <th>ca_1</th>\n",
       "      <th>ca_2</th>\n",
       "      <th>ca_3</th>\n",
       "      <th>ca_4</th>\n",
       "      <th>thal_1</th>\n",
       "      <th>thal_2</th>\n",
       "      <th>thal_3</th>\n",
       "      <th>target</th>\n",
       "    </tr>\n",
       "  </thead>\n",
       "  <tbody>\n",
       "    <tr>\n",
       "      <td>0</td>\n",
       "      <td>0.708333</td>\n",
       "      <td>1.0</td>\n",
       "      <td>0.481132</td>\n",
       "      <td>0.244292</td>\n",
       "      <td>1.0</td>\n",
       "      <td>0.603053</td>\n",
       "      <td>0.0</td>\n",
       "      <td>0.370968</td>\n",
       "      <td>0.0</td>\n",
       "      <td>0.0</td>\n",
       "      <td>...</td>\n",
       "      <td>0.0</td>\n",
       "      <td>0.0</td>\n",
       "      <td>0.0</td>\n",
       "      <td>0.0</td>\n",
       "      <td>0.0</td>\n",
       "      <td>0.0</td>\n",
       "      <td>1.0</td>\n",
       "      <td>0.0</td>\n",
       "      <td>0.0</td>\n",
       "      <td>1.0</td>\n",
       "    </tr>\n",
       "    <tr>\n",
       "      <td>1</td>\n",
       "      <td>0.166667</td>\n",
       "      <td>1.0</td>\n",
       "      <td>0.339623</td>\n",
       "      <td>0.283105</td>\n",
       "      <td>0.0</td>\n",
       "      <td>0.885496</td>\n",
       "      <td>0.0</td>\n",
       "      <td>0.564516</td>\n",
       "      <td>0.0</td>\n",
       "      <td>1.0</td>\n",
       "      <td>...</td>\n",
       "      <td>0.0</td>\n",
       "      <td>0.0</td>\n",
       "      <td>0.0</td>\n",
       "      <td>0.0</td>\n",
       "      <td>0.0</td>\n",
       "      <td>0.0</td>\n",
       "      <td>0.0</td>\n",
       "      <td>1.0</td>\n",
       "      <td>0.0</td>\n",
       "      <td>1.0</td>\n",
       "    </tr>\n",
       "    <tr>\n",
       "      <td>2</td>\n",
       "      <td>0.250000</td>\n",
       "      <td>0.0</td>\n",
       "      <td>0.339623</td>\n",
       "      <td>0.178082</td>\n",
       "      <td>0.0</td>\n",
       "      <td>0.770992</td>\n",
       "      <td>0.0</td>\n",
       "      <td>0.225806</td>\n",
       "      <td>1.0</td>\n",
       "      <td>0.0</td>\n",
       "      <td>...</td>\n",
       "      <td>0.0</td>\n",
       "      <td>1.0</td>\n",
       "      <td>0.0</td>\n",
       "      <td>0.0</td>\n",
       "      <td>0.0</td>\n",
       "      <td>0.0</td>\n",
       "      <td>0.0</td>\n",
       "      <td>1.0</td>\n",
       "      <td>0.0</td>\n",
       "      <td>1.0</td>\n",
       "    </tr>\n",
       "    <tr>\n",
       "      <td>3</td>\n",
       "      <td>0.562500</td>\n",
       "      <td>1.0</td>\n",
       "      <td>0.245283</td>\n",
       "      <td>0.251142</td>\n",
       "      <td>0.0</td>\n",
       "      <td>0.816794</td>\n",
       "      <td>0.0</td>\n",
       "      <td>0.129032</td>\n",
       "      <td>1.0</td>\n",
       "      <td>0.0</td>\n",
       "      <td>...</td>\n",
       "      <td>0.0</td>\n",
       "      <td>1.0</td>\n",
       "      <td>0.0</td>\n",
       "      <td>0.0</td>\n",
       "      <td>0.0</td>\n",
       "      <td>0.0</td>\n",
       "      <td>0.0</td>\n",
       "      <td>1.0</td>\n",
       "      <td>0.0</td>\n",
       "      <td>1.0</td>\n",
       "    </tr>\n",
       "    <tr>\n",
       "      <td>4</td>\n",
       "      <td>0.583333</td>\n",
       "      <td>0.0</td>\n",
       "      <td>0.245283</td>\n",
       "      <td>0.520548</td>\n",
       "      <td>0.0</td>\n",
       "      <td>0.702290</td>\n",
       "      <td>1.0</td>\n",
       "      <td>0.096774</td>\n",
       "      <td>0.0</td>\n",
       "      <td>0.0</td>\n",
       "      <td>...</td>\n",
       "      <td>0.0</td>\n",
       "      <td>1.0</td>\n",
       "      <td>0.0</td>\n",
       "      <td>0.0</td>\n",
       "      <td>0.0</td>\n",
       "      <td>0.0</td>\n",
       "      <td>0.0</td>\n",
       "      <td>1.0</td>\n",
       "      <td>0.0</td>\n",
       "      <td>1.0</td>\n",
       "    </tr>\n",
       "  </tbody>\n",
       "</table>\n",
       "<p>5 rows × 23 columns</p>\n",
       "</div>"
      ],
      "text/plain": [
       "        age  sex  trestbps      chol  fbs   thalach  exang   oldpeak  cp_1  \\\n",
       "0  0.708333  1.0  0.481132  0.244292  1.0  0.603053    0.0  0.370968   0.0   \n",
       "1  0.166667  1.0  0.339623  0.283105  0.0  0.885496    0.0  0.564516   0.0   \n",
       "2  0.250000  0.0  0.339623  0.178082  0.0  0.770992    0.0  0.225806   1.0   \n",
       "3  0.562500  1.0  0.245283  0.251142  0.0  0.816794    0.0  0.129032   1.0   \n",
       "4  0.583333  0.0  0.245283  0.520548  0.0  0.702290    1.0  0.096774   0.0   \n",
       "\n",
       "   cp_2  ...  slope_1  slope_2  ca_1  ca_2  ca_3  ca_4  thal_1  thal_2  \\\n",
       "0   0.0  ...      0.0      0.0   0.0   0.0   0.0   0.0     1.0     0.0   \n",
       "1   1.0  ...      0.0      0.0   0.0   0.0   0.0   0.0     0.0     1.0   \n",
       "2   0.0  ...      0.0      1.0   0.0   0.0   0.0   0.0     0.0     1.0   \n",
       "3   0.0  ...      0.0      1.0   0.0   0.0   0.0   0.0     0.0     1.0   \n",
       "4   0.0  ...      0.0      1.0   0.0   0.0   0.0   0.0     0.0     1.0   \n",
       "\n",
       "   thal_3  target  \n",
       "0     0.0     1.0  \n",
       "1     0.0     1.0  \n",
       "2     0.0     1.0  \n",
       "3     0.0     1.0  \n",
       "4     0.0     1.0  \n",
       "\n",
       "[5 rows x 23 columns]"
      ]
     },
     "execution_count": 11,
     "metadata": {},
     "output_type": "execute_result"
    }
   ],
   "source": [
    "df.head()"
   ]
  },
  {
   "cell_type": "markdown",
   "metadata": {},
   "source": [
    "### Comparing splitting sizes various online solvers"
   ]
  },
  {
   "cell_type": "code",
   "execution_count": 15,
   "metadata": {
    "scrolled": true
   },
   "outputs": [
    {
     "name": "stdout",
     "output_type": "stream",
     "text": [
      "training RF\n",
      "training SVC\n",
      "training Logist\n",
      "training LDA\n"
     ]
    },
    {
     "data": {
      "image/png": "[encoded data removed]",
      "text/plain": [
       "<Figure size 720x576 with 1 Axes>"
      ]
     },
     "metadata": {
      "needs_background": "light"
     },
     "output_type": "display_data"
    }
   ],
   "source": [
    "holdout = [0.9, 0.8, 0.7, 0.6, 0.5, 0.4, 0.3, 0.2]\n",
    "rounds = 60\n",
    "plt.figure(figsize=(10,8))\n",
    "classfiers = [('RF', RandomForestClassifier()),\n",
    "              ('SVC', SVC(gamma='scale')),\n",
    "              ('Logist', LogisticRegression(penalty='l2')),\n",
    "              ('LDA', LinearDiscriminantAnalysis())]\n",
    "\n",
    "xx = 1.0 - np.array(holdout)\n",
    "\n",
    "for name, clf in classfiers:\n",
    "    print('training %s' % name)\n",
    "    rng = np.random.RandomState(0)\n",
    "    yy = []\n",
    "    for i in holdout:\n",
    "        yy_ = []\n",
    "        for r in range(rounds):\n",
    "            X_train, X_test, y_train, y_test = \\\n",
    "                train_test_split(df.iloc[:,:-1], df.iloc[:,-1], test_size=i, stratify=df.iloc[:,-1], random_state=rng)\n",
    "            clf.fit(X_train, y_train)\n",
    "            y_pred = clf.predict(X_test)\n",
    "            yy_.append(1 - np.mean(y_pred == y_test))\n",
    "        yy.append(np.mean(yy_))\n",
    "    plt.plot(xx, yy, label=name)\n",
    "plt.xlim([min(xx), max(xx)])\n",
    "plt.legend(loc=\"upper right\")\n",
    "plt.xlabel(\"Proportion train\")\n",
    "plt.ylabel(\"Test Error Rate\")\n",
    "plt.style.use('seaborn-paper')\n",
    "plt.grid(True)\n",
    "plt.show()"
   ]
  },
  {
   "cell_type": "markdown",
   "metadata": {},
   "source": [
    "### Feature Selection"
   ]
  },
  {
   "cell_type": "code",
   "execution_count": 18,
   "metadata": {},
   "outputs": [],
   "source": [
    "X_, y_ = df.iloc[:,:-1], df.iloc[:,-1]"
   ]
  },
  {
   "cell_type": "code",
   "execution_count": 19,
   "metadata": {},
   "outputs": [],
   "source": [
    "class feature_selection(object):\n",
    "               \n",
    "    def __init__(self, X, y, n_folds, max_eval):\n",
    "        \n",
    "        \"\"\"\n",
    "        Parameters\n",
    "        ----------\n",
    "        X: array-like {n_samples, n_features}\n",
    "            Training instances to compute the feature importance scores from\n",
    "        y: array-like {n_samples}\n",
    "            Training labels\n",
    "        -------\n",
    "        \"\"\"    \n",
    "        \n",
    "        self.X = X   \n",
    "        self.y = y\n",
    "                                 \n",
    "    def fit_anova(X, y):      \n",
    "        \n",
    "        scores_Anova = []                 \n",
    "        X_train, X_val, y_train, y_val = train_test_split(X, y, stratify=y, test_size=0.3, random_state=0)               \n",
    "        X_train = pd.DataFrame(data=X_train, columns=X.columns)                \n",
    "        scores, pvalues = f_classif(X_train, y_train)                  \n",
    "        \n",
    "        for i in range(X_train.shape[1]):\n",
    "            \n",
    "            scores_Anova.append((scores[i], X_train.columns[i]))          \n",
    "            df_Anova = pd.DataFrame(data=scores_Anova, columns=('score_anova', 'feature_anova'))              \n",
    "            blankIndex=[''] * len(df_Anova)            \n",
    "            df_Anova.index = blankIndex            \n",
    "            df_Anova = df_Anova.sort_values(by='score_anova', ascending=False)\n",
    "            \n",
    "        return df_Anova\n",
    "    \n",
    "    def fit_mutual(X, y):  \n",
    "        \n",
    "        scores_Mutual = []                       \n",
    "        X_train, X_val, y_train, y_val = train_test_split(X, y, stratify=y, test_size=0.1, random_state=0)            \n",
    "        X_train = pd.DataFrame(data=X_train, columns=X.columns)            \n",
    "        scores = mutual_info_classif(np.array(X_train), np.array(y_train))                  \n",
    "    \n",
    "        for i in range(X_train.shape[1]):\n",
    "\n",
    "            scores_Mutual.append((scores[i], X_train.columns[i]))\n",
    "            df_Mutual = pd.DataFrame(data=scores_Mutual, columns=('score_mutual', 'feature_mutual'))  \n",
    "            blankIndex=[''] * len(df_Mutual)\n",
    "            df_Mutual.index = blankIndex\n",
    "            df_Mutual = df_Mutual.sort_values(by='score_mutual', ascending=False)\n",
    "\n",
    "        return df_Mutual\n",
    "    \n",
    "    def ensemble(X, y, df):\n",
    "        \n",
    "        df_Anova = feature_selection.fit_anova(X,y)        \n",
    "        df_mutual = feature_selection.fit_mutual(X,y)        \n",
    "        df_concat = pd.concat([df_Anova.drop(['score_anova'], axis=1), df_mutual.drop(['score_mutual'], axis=1)], axis=1)        \n",
    "        df_concat = df_concat.iloc[:int(len(df_concat)/2),:]        \n",
    "        ensemble_features = list(pd.Index(df_concat.feature_anova).intersection(pd.Index(df_concat.feature_mutual)))        \n",
    "        df_ensemble = df[list(pd.Index(df_concat.feature_anova).intersection(pd.Index(df_concat.feature_mutual)))]\n",
    "        \n",
    "        return df_ensemble"
   ]
  },
  {
   "cell_type": "code",
   "execution_count": 20,
   "metadata": {},
   "outputs": [],
   "source": [
    "df_ensemble = feature_selection.ensemble(X_,y_,df)\n",
    "df_ensemble = pd.concat([df_ensemble, df.iloc[:, -1]], axis=1)"
   ]
  },
  {
   "cell_type": "code",
   "execution_count": 21,
   "metadata": {
    "scrolled": true
   },
   "outputs": [
    {
     "data": {
      "text/html": [
       "<div>\n",
       "<style scoped>\n",
       "    .dataframe tbody tr th:only-of-type {\n",
       "        vertical-align: middle;\n",
       "    }\n",
       "\n",
       "    .dataframe tbody tr th {\n",
       "        vertical-align: top;\n",
       "    }\n",
       "\n",
       "    .dataframe thead th {\n",
       "        text-align: right;\n",
       "    }\n",
       "</style>\n",
       "<table border=\"1\" class=\"dataframe\">\n",
       "  <thead>\n",
       "    <tr style=\"text-align: right;\">\n",
       "      <th></th>\n",
       "      <th>thal_2</th>\n",
       "      <th>thal_3</th>\n",
       "      <th>exang</th>\n",
       "      <th>oldpeak</th>\n",
       "      <th>thalach</th>\n",
       "      <th>slope_2</th>\n",
       "      <th>cp_2</th>\n",
       "      <th>slope_1</th>\n",
       "      <th>sex</th>\n",
       "      <th>target</th>\n",
       "    </tr>\n",
       "  </thead>\n",
       "  <tbody>\n",
       "    <tr>\n",
       "      <td>0</td>\n",
       "      <td>0.0</td>\n",
       "      <td>0.0</td>\n",
       "      <td>0.0</td>\n",
       "      <td>0.370968</td>\n",
       "      <td>0.603053</td>\n",
       "      <td>0.0</td>\n",
       "      <td>0.0</td>\n",
       "      <td>0.0</td>\n",
       "      <td>1.0</td>\n",
       "      <td>1.0</td>\n",
       "    </tr>\n",
       "    <tr>\n",
       "      <td>1</td>\n",
       "      <td>1.0</td>\n",
       "      <td>0.0</td>\n",
       "      <td>0.0</td>\n",
       "      <td>0.564516</td>\n",
       "      <td>0.885496</td>\n",
       "      <td>0.0</td>\n",
       "      <td>1.0</td>\n",
       "      <td>0.0</td>\n",
       "      <td>1.0</td>\n",
       "      <td>1.0</td>\n",
       "    </tr>\n",
       "    <tr>\n",
       "      <td>2</td>\n",
       "      <td>1.0</td>\n",
       "      <td>0.0</td>\n",
       "      <td>0.0</td>\n",
       "      <td>0.225806</td>\n",
       "      <td>0.770992</td>\n",
       "      <td>1.0</td>\n",
       "      <td>0.0</td>\n",
       "      <td>0.0</td>\n",
       "      <td>0.0</td>\n",
       "      <td>1.0</td>\n",
       "    </tr>\n",
       "    <tr>\n",
       "      <td>3</td>\n",
       "      <td>1.0</td>\n",
       "      <td>0.0</td>\n",
       "      <td>0.0</td>\n",
       "      <td>0.129032</td>\n",
       "      <td>0.816794</td>\n",
       "      <td>1.0</td>\n",
       "      <td>0.0</td>\n",
       "      <td>0.0</td>\n",
       "      <td>1.0</td>\n",
       "      <td>1.0</td>\n",
       "    </tr>\n",
       "    <tr>\n",
       "      <td>4</td>\n",
       "      <td>1.0</td>\n",
       "      <td>0.0</td>\n",
       "      <td>1.0</td>\n",
       "      <td>0.096774</td>\n",
       "      <td>0.702290</td>\n",
       "      <td>1.0</td>\n",
       "      <td>0.0</td>\n",
       "      <td>0.0</td>\n",
       "      <td>0.0</td>\n",
       "      <td>1.0</td>\n",
       "    </tr>\n",
       "    <tr>\n",
       "      <td>...</td>\n",
       "      <td>...</td>\n",
       "      <td>...</td>\n",
       "      <td>...</td>\n",
       "      <td>...</td>\n",
       "      <td>...</td>\n",
       "      <td>...</td>\n",
       "      <td>...</td>\n",
       "      <td>...</td>\n",
       "      <td>...</td>\n",
       "      <td>...</td>\n",
       "    </tr>\n",
       "    <tr>\n",
       "      <td>298</td>\n",
       "      <td>0.0</td>\n",
       "      <td>1.0</td>\n",
       "      <td>1.0</td>\n",
       "      <td>0.032258</td>\n",
       "      <td>0.396947</td>\n",
       "      <td>0.0</td>\n",
       "      <td>0.0</td>\n",
       "      <td>1.0</td>\n",
       "      <td>0.0</td>\n",
       "      <td>0.0</td>\n",
       "    </tr>\n",
       "    <tr>\n",
       "      <td>299</td>\n",
       "      <td>0.0</td>\n",
       "      <td>1.0</td>\n",
       "      <td>0.0</td>\n",
       "      <td>0.193548</td>\n",
       "      <td>0.465649</td>\n",
       "      <td>0.0</td>\n",
       "      <td>0.0</td>\n",
       "      <td>1.0</td>\n",
       "      <td>1.0</td>\n",
       "      <td>0.0</td>\n",
       "    </tr>\n",
       "    <tr>\n",
       "      <td>300</td>\n",
       "      <td>0.0</td>\n",
       "      <td>1.0</td>\n",
       "      <td>0.0</td>\n",
       "      <td>0.548387</td>\n",
       "      <td>0.534351</td>\n",
       "      <td>0.0</td>\n",
       "      <td>0.0</td>\n",
       "      <td>1.0</td>\n",
       "      <td>1.0</td>\n",
       "      <td>0.0</td>\n",
       "    </tr>\n",
       "    <tr>\n",
       "      <td>301</td>\n",
       "      <td>0.0</td>\n",
       "      <td>1.0</td>\n",
       "      <td>1.0</td>\n",
       "      <td>0.193548</td>\n",
       "      <td>0.335878</td>\n",
       "      <td>0.0</td>\n",
       "      <td>0.0</td>\n",
       "      <td>1.0</td>\n",
       "      <td>1.0</td>\n",
       "      <td>0.0</td>\n",
       "    </tr>\n",
       "    <tr>\n",
       "      <td>302</td>\n",
       "      <td>1.0</td>\n",
       "      <td>0.0</td>\n",
       "      <td>0.0</td>\n",
       "      <td>0.000000</td>\n",
       "      <td>0.786260</td>\n",
       "      <td>0.0</td>\n",
       "      <td>0.0</td>\n",
       "      <td>1.0</td>\n",
       "      <td>0.0</td>\n",
       "      <td>0.0</td>\n",
       "    </tr>\n",
       "  </tbody>\n",
       "</table>\n",
       "<p>303 rows × 10 columns</p>\n",
       "</div>"
      ],
      "text/plain": [
       "     thal_2  thal_3  exang   oldpeak   thalach  slope_2  cp_2  slope_1  sex  \\\n",
       "0       0.0     0.0    0.0  0.370968  0.603053      0.0   0.0      0.0  1.0   \n",
       "1       1.0     0.0    0.0  0.564516  0.885496      0.0   1.0      0.0  1.0   \n",
       "2       1.0     0.0    0.0  0.225806  0.770992      1.0   0.0      0.0  0.0   \n",
       "3       1.0     0.0    0.0  0.129032  0.816794      1.0   0.0      0.0  1.0   \n",
       "4       1.0     0.0    1.0  0.096774  0.702290      1.0   0.0      0.0  0.0   \n",
       "..      ...     ...    ...       ...       ...      ...   ...      ...  ...   \n",
       "298     0.0     1.0    1.0  0.032258  0.396947      0.0   0.0      1.0  0.0   \n",
       "299     0.0     1.0    0.0  0.193548  0.465649      0.0   0.0      1.0  1.0   \n",
       "300     0.0     1.0    0.0  0.548387  0.534351      0.0   0.0      1.0  1.0   \n",
       "301     0.0     1.0    1.0  0.193548  0.335878      0.0   0.0      1.0  1.0   \n",
       "302     1.0     0.0    0.0  0.000000  0.786260      0.0   0.0      1.0  0.0   \n",
       "\n",
       "     target  \n",
       "0       1.0  \n",
       "1       1.0  \n",
       "2       1.0  \n",
       "3       1.0  \n",
       "4       1.0  \n",
       "..      ...  \n",
       "298     0.0  \n",
       "299     0.0  \n",
       "300     0.0  \n",
       "301     0.0  \n",
       "302     0.0  \n",
       "\n",
       "[303 rows x 10 columns]"
      ]
     },
     "execution_count": 21,
     "metadata": {},
     "output_type": "execute_result"
    }
   ],
   "source": [
    "df_ensemble"
   ]
  },
  {
   "cell_type": "markdown",
   "metadata": {},
   "source": [
    "### OOP for model selection"
   ]
  },
  {
   "cell_type": "code",
   "execution_count": 22,
   "metadata": {},
   "outputs": [],
   "source": [
    "class Model:\n",
    "    \n",
    "    def __init__(self, model, X, y):\n",
    "        \n",
    "        self.model = model\n",
    "        self.X = X\n",
    "        self.y = y\n",
    "        self.X_train, self.X_test, self.y_train, self.y_test = train_test_split(self.X, self.y, test_size=0.3, random_state=0)\n",
    "        self.model.fit(self.X_train, self.y_train)\n",
    "        print(f'{self.model_str()} Model training..')\n",
    "        self.y_pred = self.model.predict(self.X_test)        \n",
    "        \n",
    "    def model_str(self):\n",
    "        \n",
    "        return str(self.model.__class__.__name__)\n",
    "    \n",
    "    def CrossValScore(self, cv=5):\n",
    "        \n",
    "        print(self.model_str() + '\\n' + '='*60)\n",
    "        scores = ['accuracy', 'precision', 'recall', 'roc_auc']\n",
    "        for i in scores:\n",
    "            cv_result = cross_val_score(self.model, self.X_train, self.y_train, cv=cv, scoring=i).mean()\n",
    "            print('Model ' + i + ' : ' + '%.3f' % cv_result)\n",
    "            \n",
    "    def accuracy(self):\n",
    "        accuracy = accuracy_score(self.y_test, self.y_pred)\n",
    "        print(self.model_str() + ' model ' + 'Accuracy is: ')\n",
    "        return accuracy\n",
    "    \n",
    "    \n",
    "    def confusionMatrix(self):        \n",
    "        plt.figure(figsize=(5, 5))\n",
    "        mat = confusion_matrix(self.y_test, self.y_pred)\n",
    "        sns.heatmap(mat.T, square=True, \n",
    "                    annot=True, \n",
    "                    cbar=False, \n",
    "                    xticklabels=[\"Haven't Disease\", \"Have Disease\"], \n",
    "                    yticklabels=[\"Haven't Disease\", \"Have Disease\"])\n",
    "        \n",
    "        plt.title(self.model_str() + \" Confusion Matrix\")\n",
    "        plt.xlabel('Predicted Values')\n",
    "        plt.ylabel('True Values');\n",
    "        plt.show();\n",
    "        \n",
    "    def classificationReport(self):\n",
    "        print(self.model_str() + \" Classification Report\" + \"\\n\" + \"=\"*60)\n",
    "        print(classification_report(self.y_test, \n",
    "                                    self.y_pred, \n",
    "                                    target_names=['Non Disease', 'Disease']))\n",
    "    \n",
    "    def rocCurve(self):\n",
    "        y_prob = self.model.predict_proba(self.X_test)[:,1]\n",
    "        fpr, tpr, thr = roc_curve(self.y_test, y_prob)\n",
    "        lw = 2\n",
    "        plt.figure(figsize=(8, 6))\n",
    "        plt.plot(fpr, tpr, \n",
    "                 color='darkorange', \n",
    "                 lw=lw, \n",
    "                 label=\"Curve Area = %0.3f\" % auc(fpr, tpr))\n",
    "        plt.plot([0, 1], [0, 1], color='green', \n",
    "                 lw=lw, linestyle='--')\n",
    "        plt.xlabel('False Positive Rate')\n",
    "        plt.ylabel('True Positive Rate')\n",
    "        plt.title(self.model_str() + ' Receiver Operating Characteristic Plot')\n",
    "        plt.legend(loc=\"lower right\")\n",
    "        plt.show()"
   ]
  },
  {
   "cell_type": "markdown",
   "metadata": {},
   "source": [
    "#### Result without features selection"
   ]
  },
  {
   "cell_type": "code",
   "execution_count": 23,
   "metadata": {},
   "outputs": [
    {
     "name": "stdout",
     "output_type": "stream",
     "text": [
      "RandomForestClassifier Model training..\n",
      "LinearDiscriminantAnalysis Model training..\n",
      "LogisticRegression Model training..\n",
      "SVC Model training..\n"
     ]
    }
   ],
   "source": [
    "rf = Model(model=RandomForestClassifier(random_state=0), X=df.iloc[:,:-1], y=df.iloc[:,-1])\n",
    "LDA = Model(model=LinearDiscriminantAnalysis(), X=df.iloc[:,:-1], y=df.iloc[:,-1])\n",
    "lr = Model(model=LogisticRegression(penalty='l2', random_state=0), X=df.iloc[:,:-1], y=df.iloc[:,-1])\n",
    "SVM = Model(model=SVC(gamma='scale', random_state=0), X=df.iloc[:,:-1], y=df.iloc[:,-1])"
   ]
  },
  {
   "cell_type": "code",
   "execution_count": 24,
   "metadata": {},
   "outputs": [
    {
     "name": "stdout",
     "output_type": "stream",
     "text": [
      "RandomForestClassifier model Accuracy is: \n",
      "LinearDiscriminantAnalysis model Accuracy is: \n",
      "LogisticRegression model Accuracy is: \n",
      "SVC model Accuracy is: \n"
     ]
    }
   ],
   "source": [
    "models = [rf, LDA, lr, SVM]\n",
    "names = []\n",
    "accuracy_without = []\n",
    "for model in models[:4]:\n",
    "    accuracy_without.append(model.accuracy());\n",
    "    names.append(model.model_str());"
   ]
  },
  {
   "cell_type": "markdown",
   "metadata": {},
   "source": [
    "#### Result with features selection"
   ]
  },
  {
   "cell_type": "code",
   "execution_count": 25,
   "metadata": {},
   "outputs": [
    {
     "name": "stdout",
     "output_type": "stream",
     "text": [
      "RandomForestClassifier Model training..\n",
      "LinearDiscriminantAnalysis Model training..\n",
      "LogisticRegression Model training..\n",
      "SVC Model training..\n"
     ]
    }
   ],
   "source": [
    "rf = Model(model=RandomForestClassifier(random_state=0), X=df_ensemble.iloc[:,:-1], y=df_ensemble.iloc[:,-1])\n",
    "LDA = Model(model=LinearDiscriminantAnalysis(), X=df_ensemble.iloc[:,:-1], y=df_ensemble.iloc[:,-1])\n",
    "lr = Model(model=LogisticRegression(penalty='l2'), X=df_ensemble.iloc[:,:-1], y=df_ensemble.iloc[:,-1])\n",
    "SVM = Model(model=SVC(gamma='scale', random_state=0), X=df_ensemble.iloc[:,:-1], y=df_ensemble.iloc[:,-1])"
   ]
  },
  {
   "cell_type": "code",
   "execution_count": 26,
   "metadata": {
    "scrolled": true
   },
   "outputs": [
    {
     "name": "stdout",
     "output_type": "stream",
     "text": [
      "RandomForestClassifier model Accuracy is: \n",
      "LinearDiscriminantAnalysis model Accuracy is: \n",
      "LogisticRegression model Accuracy is: \n",
      "SVC model Accuracy is: \n"
     ]
    }
   ],
   "source": [
    "models = [rf, LDA, lr, SVM]\n",
    "names = []\n",
    "accuracy_with = []\n",
    "for model in models[:4]:\n",
    "    accuracy_with.append(model.accuracy());\n",
    "    names.append(model.model_str());"
   ]
  },
  {
   "cell_type": "code",
   "execution_count": 27,
   "metadata": {},
   "outputs": [
    {
     "data": {
      "image/png": "[encoded data removed]",
      "text/plain": [
       "<Figure size 1152x360 with 2 Axes>"
      ]
     },
     "metadata": {
      "needs_background": "light"
     },
     "output_type": "display_data"
    }
   ],
   "source": [
    "f, axes = plt.subplots(nrows=1, ncols=2, figsize=(16,5))\n",
    "f.suptitle('Accuracy with and without feature selection')\n",
    "sns.barplot(x=names, y=accuracy_with, ax=axes[0])\n",
    "sns.barplot(x=names, y=accuracy_without, ax=axes[1])\n",
    "axes[0].title.set_text('Accuracy with feature selection')\n",
    "axes[1].title.set_text('Accuracy without feature selection')\n",
    "plt.show()"
   ]
  },
  {
   "cell_type": "markdown",
   "metadata": {},
   "source": [
    "Lets continue with all features!"
   ]
  },
  {
   "cell_type": "code",
   "execution_count": 28,
   "metadata": {
    "scrolled": true
   },
   "outputs": [
    {
     "name": "stdout",
     "output_type": "stream",
     "text": [
      "RandomForestClassifier Model training..\n",
      "LinearDiscriminantAnalysis Model training..\n",
      "LogisticRegression Model training..\n",
      "SVC Model training..\n"
     ]
    }
   ],
   "source": [
    "rf = Model(model=RandomForestClassifier(random_state=0), X=df.iloc[:,:-1], y=df.iloc[:,-1])\n",
    "LDA = Model(model=LinearDiscriminantAnalysis(), X=df.iloc[:,:-1], y=df.iloc[:,-1])\n",
    "lr = Model(model=LogisticRegression(penalty='l2', random_state=0), X=df.iloc[:,:-1], y=df.iloc[:,-1])\n",
    "SVM = Model(model=SVC(gamma='scale', probability=True, random_state=0), X=df.iloc[:,:-1], y=df.iloc[:,-1])"
   ]
  },
  {
   "cell_type": "markdown",
   "metadata": {},
   "source": [
    "#### Lets plot the roc curve"
   ]
  },
  {
   "cell_type": "code",
   "execution_count": 29,
   "metadata": {},
   "outputs": [
    {
     "data": {
      "image/png": "[encoded data removed]",
      "text/plain": [
       "<Figure size 576x432 with 1 Axes>"
      ]
     },
     "metadata": {
      "needs_background": "light"
     },
     "output_type": "display_data"
    },
    {
     "data": {
      "image/png": "[encoded data removed]",
      "text/plain": [
       "<Figure size 576x432 with 1 Axes>"
      ]
     },
     "metadata": {
      "needs_background": "light"
     },
     "output_type": "display_data"
    },
    {
     "data": {
      "image/png": "[encoded data removed]",
      "text/plain": [
       "<Figure size 576x432 with 1 Axes>"
      ]
     },
     "metadata": {
      "needs_background": "light"
     },
     "output_type": "display_data"
    },
    {
     "data": {
      "image/png": "[encoded data removed]",
      "text/plain": [
       "<Figure size 576x432 with 1 Axes>"
      ]
     },
     "metadata": {
      "needs_background": "light"
     },
     "output_type": "display_data"
    }
   ],
   "source": [
    "models = [rf, LDA, lr, SVM]\n",
    "for model in models:\n",
    "    model.rocCurve()"
   ]
  },
  {
   "cell_type": "markdown",
   "metadata": {},
   "source": [
    "### Stacking models"
   ]
  },
  {
   "cell_type": "code",
   "execution_count": 107,
   "metadata": {},
   "outputs": [],
   "source": [
    "skfold = StratifiedKFold(n_splits=10, random_state=0, shuffle=False)\n",
    "X, X_val, y, y_val = train_test_split(df.iloc[:,:-1], df.iloc[:,-1] ,test_size=0.3, random_state=0)\n",
    "rf = RandomForestClassifier(random_state=0)\n",
    "LDA = LinearDiscriminantAnalysis()\n",
    "lr = LogisticRegression(penalty='l2', random_state=0)\n",
    "SVM = SVC(gamma='scale', probability=True, random_state=0)"
   ]
  },
  {
   "cell_type": "code",
   "execution_count": 108,
   "metadata": {},
   "outputs": [],
   "source": [
    "x_data, y_data, y_SVM, y_cart, y_LDA, y_lr = list(),list(),list(),list(),list(),list()\n",
    "for train_idx, test_idx in skfold.split(X, y):\n",
    "    X_train, X_test = X.values[train_idx], X.values[test_idx]\n",
    "    y_train, y_test = y.values[train_idx], y.values[test_idx]\n",
    "    x_data.extend(X_test)\n",
    "    y_data.extend(y_test)\n",
    "    # fit and make predictions with randomforest\n",
    "    rf.fit(X_train, y_train)\n",
    "    y_pred_rf = rf.predict_proba(X_test)[:,0]\n",
    "    y_cart.extend(y_pred_rf)\n",
    "    # fit and make predictions with LinearDiscriminantAnalysis\n",
    "    LDA.fit(X_train, y_train)\n",
    "    y_pred_LDA = LDA.predict_proba(X_test)[:,0]\n",
    "    y_LDA.extend(y_pred_LDA)\n",
    "    # fit and make predictions with LogisticRegression\n",
    "    lr.fit(X_train, y_train)\n",
    "    y_pred_lr = lr.predict_proba(X_test)[:,0]\n",
    "    y_lr.extend(y_pred_lr)\n",
    "    # fit and make predictions with SVC\n",
    "    SVM.fit(X_train, y_train)\n",
    "    y_pred_SVM = SVM.predict_proba(X_test)[:,0]\n",
    "    y_SVM.extend(y_pred_SVM)"
   ]
  },
  {
   "cell_type": "code",
   "execution_count": 109,
   "metadata": {},
   "outputs": [],
   "source": [
    "def meta_dataset(x_data, y_pred_rf, y_pred_LDA, y_pred_lr, y_pred_SVM):\n",
    "    # convert to columns\n",
    "    y_pred_rf = np.array(y_pred_rf).reshape((len(y_pred_rf), 1))\n",
    "    y_pred_LDA = np.array(y_pred_LDA).reshape((len(y_pred_LDA), 1))\n",
    "    y_pred_lr = np.array(y_pred_lr).reshape((len(y_pred_lr), 1))\n",
    "    y_pred_SVM = np.array(y_pred_SVM).reshape((len(y_pred_SVM), 1))\n",
    "    # stack as separate columns\n",
    "    X_meta = np.hstack((x_data,y_pred_rf,y_pred_LDA,y_pred_lr,y_pred_SVM))\n",
    "    return X_meta"
   ]
  },
  {
   "cell_type": "code",
   "execution_count": 110,
   "metadata": {},
   "outputs": [],
   "source": [
    "X_meta = meta_dataset(x_data, y_cart, y_LDA, y_lr, y_SVM)"
   ]
  },
  {
   "cell_type": "code",
   "execution_count": 111,
   "metadata": {},
   "outputs": [
    {
     "data": {
      "text/plain": [
       "SVC(C=1.0, cache_size=200, class_weight=None, coef0=0.0,\n",
       "    decision_function_shape='ovr', degree=3, gamma='scale', kernel='rbf',\n",
       "    max_iter=-1, probability=True, random_state=0, shrinking=True, tol=0.001,\n",
       "    verbose=False)"
      ]
     },
     "execution_count": 111,
     "metadata": {},
     "output_type": "execute_result"
    }
   ],
   "source": [
    "# fit final submodels and meta model\n",
    "rf.fit(X, y)\n",
    "LDA.fit(X, y)\n",
    "lr.fit(X, y)\n",
    "SVM.fit(X, y)\n",
    "meta_model = SVC(gamma='scale', probability=True, random_state=0)\n",
    "meta_model.fit(X_meta, y_data)"
   ]
  },
  {
   "cell_type": "code",
   "execution_count": 112,
   "metadata": {},
   "outputs": [],
   "source": [
    "# make predictions with stacked model\n",
    "def stack_prediction(model1, model2, model3, model4, meta_model, X):\n",
    "    # make predictions\n",
    "    y_pred1 = model1.predict_proba(X)[:, 0]\n",
    "    y_pred2 = model2.predict_proba(X)[:, 0]\n",
    "    y_pred3 = model3.predict_proba(X)[:, 0]\n",
    "    y_pred4 = model4.predict_proba(X)[:, 0]\n",
    "    # create input dataset\n",
    "    X_meta = meta_dataset(X, y_pred1, y_pred2, y_pred3, y_pred4)\n",
    "    # predict\n",
    "    return meta_model.predict(X_meta)"
   ]
  },
  {
   "cell_type": "code",
   "execution_count": 113,
   "metadata": {},
   "outputs": [
    {
     "name": "stdout",
     "output_type": "stream",
     "text": [
      "rf Accuracy: 0.769, LDA Accuracy: 0.835, lr Accuracy: 0.835, SVM Accuracy: 0.813\n",
      "Meta Model Accuracy: 0.824\n"
     ]
    }
   ],
   "source": [
    "# evaluate sub models on hold out dataset\n",
    "acc1 = accuracy_score(y_val, rf.predict(X_val))\n",
    "acc2 = accuracy_score(y_val, LDA.predict(X_val))\n",
    "acc3 = accuracy_score(y_val, lr.predict(X_val))\n",
    "acc4 = accuracy_score(y_val, SVM.predict(X_val))\n",
    "print('rf Accuracy: %.3f, LDA Accuracy: %.3f, lr Accuracy: %.3f, SVM Accuracy: %.3f' % (acc1, acc2, acc3, acc4))\n",
    "# evaluate meta model on hold out dataset\n",
    "y_pred = stack_prediction(rf, LDA, lr, SVM, meta_model, X_val)\n",
    "acc = accuracy_score(y_val, y_pred)\n",
    "print('Meta Model Accuracy: %.3f' % (acc))"
   ]
  },
  {
   "cell_type": "markdown",
   "metadata": {},
   "source": [
    "We can see that stacking the models not achieved better result. One option is to tweak the hyper parameters. Another option is to use different models.  "
   ]
  }
 ],
 "metadata": {
  "kernelspec": {
   "display_name": "Python 3",
   "language": "python",
   "name": "python3"
  },
  "language_info": {
   "codemirror_mode": {
    "name": "ipython",
    "version": 3
   },
   "file_extension": ".py",
   "mimetype": "text/x-python",
   "name": "python",
   "nbconvert_exporter": "python",
   "pygments_lexer": "ipython3",
   "version": "3.7.4"
  }
 },
 "nbformat": 4,
 "nbformat_minor": 2
}
