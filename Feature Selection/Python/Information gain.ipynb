{
 "cells": [
  {
   "cell_type": "markdown",
   "metadata": {},
   "source": [
    "# Information gain"
   ]
  },
  {
   "cell_type": "code",
   "execution_count": 3,
   "metadata": {},
   "outputs": [],
   "source": [
    "from __future__ import division\n",
    "from math import log\n",
    "\n",
    "\n",
    "def entropy(pi):\n",
    "    '''\n",
    "    return the Entropy of a probability distribution:\n",
    "    entropy(p) = − SUM (Pi * log(Pi) )\n",
    "    defintion:\n",
    "            entropy is a metric to measure the uncertainty of a probability distribution.\n",
    "    entropy ranges between 0 to 1\n",
    "    Low entropy means the distribution varies (peaks and valleys).\n",
    "    High entropy means the distribution is uniform.\n",
    "    See:\n",
    "            http://www.cs.csi.cuny.edu/~imberman/ai/Entropy%20and%20Information%20Gain.htm\n",
    "    '''\n",
    "\n",
    "    total = 0\n",
    "    for p in pi:\n",
    "        p = p / sum(pi)\n",
    "        if p != 0:\n",
    "            total += p * log(p, 2)\n",
    "        else:\n",
    "            total += 0\n",
    "    total *= -1\n",
    "    return total"
   ]
  },
  {
   "cell_type": "code",
   "execution_count": 4,
   "metadata": {},
   "outputs": [],
   "source": [
    "def gain(d, a):\n",
    "    '''\n",
    "    return the information gain:\n",
    "    gain(D, A) = entropy(D)−􏰋 SUM ( |Di| / |D| * entropy(Di) )\n",
    "    '''\n",
    "\n",
    "    total = 0\n",
    "    for v in a:\n",
    "        total += sum(v) / sum(d) * entropy(v)\n",
    "\n",
    "    gain = entropy(d) - total\n",
    "    return gain"
   ]
  },
  {
   "cell_type": "code",
   "execution_count": 5,
   "metadata": {},
   "outputs": [
    {
     "name": "stdout",
     "output_type": "stream",
     "text": [
      "0.5408520829727552\n"
     ]
    }
   ],
   "source": [
    "# TEST\n",
    "\n",
    "###__ example 1 (AIMA book, fig18.3)\n",
    "\n",
    "# set of example of the dataset\n",
    "willWait = [6, 6] # Yes, No\n",
    "\n",
    "# attribute, number of members (feature)\n",
    "patron = [ [4,0], [2,4], [0,2] ] # Some, Full, None\n",
    "\n",
    "print(gain(willWait, patron))"
   ]
  },
  {
   "cell_type": "code",
   "execution_count": 7,
   "metadata": {},
   "outputs": [
    {
     "name": "stdout",
     "output_type": "stream",
     "text": [
      "0.2467498197744391\n",
      "0.029222565658954647\n",
      "0.15183550136234136\n",
      "0.04812703040826927\n"
     ]
    }
   ],
   "source": [
    "###__ example 2 (playTennis homework)\n",
    "\n",
    "# set of example of the dataset\n",
    "playTennis = [9, 5] # Yes, No\n",
    "\n",
    "# attribute, number of members (feature)\n",
    "outlook = [\n",
    "    [4, 0],  # overcase\n",
    "    [2, 3],  # sunny\n",
    "    [3, 2]   # rain\n",
    "]\n",
    "temperature = [\n",
    "    [2, 2],  # hot\n",
    "    [3, 1],  # cool\n",
    "    [4, 2]   # mild\n",
    "]\n",
    "humidity = [\n",
    "    [3, 4],  # high\n",
    "    [6, 1]   # normal\n",
    "]\n",
    "wind = [\n",
    "    [6, 2],  # weak\n",
    "    [3, 3]   # strong\n",
    "]\n",
    "\n",
    "print(gain(playTennis, outlook))\n",
    "print(gain(playTennis, temperature))\n",
    "print(gain(playTennis, humidity))\n",
    "print(gain(playTennis, wind))"
   ]
  }
 ],
 "metadata": {
  "kernelspec": {
   "display_name": "Python 3",
   "language": "python",
   "name": "python3"
  },
  "language_info": {
   "codemirror_mode": {
    "name": "ipython",
    "version": 3
   },
   "file_extension": ".py",
   "mimetype": "text/x-python",
   "name": "python",
   "nbconvert_exporter": "python",
   "pygments_lexer": "ipython3",
   "version": "3.6.8"
  }
 },
 "nbformat": 4,
 "nbformat_minor": 2
}
