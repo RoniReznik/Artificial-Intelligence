{
 "cells": [
  {
   "cell_type": "markdown",
   "metadata": {},
   "source": [
    "### Import Libraries"
   ]
  },
  {
   "cell_type": "code",
   "execution_count": 1,
   "metadata": {},
   "outputs": [],
   "source": [
    "import pandas as pd\n",
    "import numpy as np\n",
    "import matplotlib.pyplot as plt\n",
    "import seaborn as sns\n",
    "from sklearn.preprocessing import LabelEncoder, MinMaxScaler\n",
    "from sklearn.model_selection import train_test_split\n",
    "from sklearn.feature_selection import mutual_info_regression"
   ]
  },
  {
   "cell_type": "code",
   "execution_count": 2,
   "metadata": {},
   "outputs": [],
   "source": [
    "df = pd.read_csv('Automobile_data.csv', engine='python')"
   ]
  },
  {
   "cell_type": "code",
   "execution_count": 3,
   "metadata": {
    "scrolled": true
   },
   "outputs": [
    {
     "data": {
      "text/html": [
       "<div>\n",
       "<style scoped>\n",
       "    .dataframe tbody tr th:only-of-type {\n",
       "        vertical-align: middle;\n",
       "    }\n",
       "\n",
       "    .dataframe tbody tr th {\n",
       "        vertical-align: top;\n",
       "    }\n",
       "\n",
       "    .dataframe thead th {\n",
       "        text-align: right;\n",
       "    }\n",
       "</style>\n",
       "<table border=\"1\" class=\"dataframe\">\n",
       "  <thead>\n",
       "    <tr style=\"text-align: right;\">\n",
       "      <th></th>\n",
       "      <th>symboling</th>\n",
       "      <th>normalized-losses</th>\n",
       "      <th>make</th>\n",
       "      <th>fuel-type</th>\n",
       "      <th>aspiration</th>\n",
       "      <th>num-of-doors</th>\n",
       "      <th>body-style</th>\n",
       "      <th>drive-wheels</th>\n",
       "      <th>engine-location</th>\n",
       "      <th>wheel-base</th>\n",
       "      <th>...</th>\n",
       "      <th>engine-size</th>\n",
       "      <th>fuel-system</th>\n",
       "      <th>bore</th>\n",
       "      <th>stroke</th>\n",
       "      <th>compression-ratio</th>\n",
       "      <th>horsepower</th>\n",
       "      <th>peak-rpm</th>\n",
       "      <th>city-mpg</th>\n",
       "      <th>highway-mpg</th>\n",
       "      <th>price</th>\n",
       "    </tr>\n",
       "  </thead>\n",
       "  <tbody>\n",
       "    <tr>\n",
       "      <td>0</td>\n",
       "      <td>3</td>\n",
       "      <td>?</td>\n",
       "      <td>alfa-romero</td>\n",
       "      <td>gas</td>\n",
       "      <td>std</td>\n",
       "      <td>two</td>\n",
       "      <td>convertible</td>\n",
       "      <td>rwd</td>\n",
       "      <td>front</td>\n",
       "      <td>88.6</td>\n",
       "      <td>...</td>\n",
       "      <td>130</td>\n",
       "      <td>mpfi</td>\n",
       "      <td>3.47</td>\n",
       "      <td>2.68</td>\n",
       "      <td>9.0</td>\n",
       "      <td>111</td>\n",
       "      <td>5000</td>\n",
       "      <td>21</td>\n",
       "      <td>27</td>\n",
       "      <td>13495</td>\n",
       "    </tr>\n",
       "    <tr>\n",
       "      <td>1</td>\n",
       "      <td>3</td>\n",
       "      <td>?</td>\n",
       "      <td>alfa-romero</td>\n",
       "      <td>gas</td>\n",
       "      <td>std</td>\n",
       "      <td>two</td>\n",
       "      <td>convertible</td>\n",
       "      <td>rwd</td>\n",
       "      <td>front</td>\n",
       "      <td>88.6</td>\n",
       "      <td>...</td>\n",
       "      <td>130</td>\n",
       "      <td>mpfi</td>\n",
       "      <td>3.47</td>\n",
       "      <td>2.68</td>\n",
       "      <td>9.0</td>\n",
       "      <td>111</td>\n",
       "      <td>5000</td>\n",
       "      <td>21</td>\n",
       "      <td>27</td>\n",
       "      <td>16500</td>\n",
       "    </tr>\n",
       "    <tr>\n",
       "      <td>2</td>\n",
       "      <td>1</td>\n",
       "      <td>?</td>\n",
       "      <td>alfa-romero</td>\n",
       "      <td>gas</td>\n",
       "      <td>std</td>\n",
       "      <td>two</td>\n",
       "      <td>hatchback</td>\n",
       "      <td>rwd</td>\n",
       "      <td>front</td>\n",
       "      <td>94.5</td>\n",
       "      <td>...</td>\n",
       "      <td>152</td>\n",
       "      <td>mpfi</td>\n",
       "      <td>2.68</td>\n",
       "      <td>3.47</td>\n",
       "      <td>9.0</td>\n",
       "      <td>154</td>\n",
       "      <td>5000</td>\n",
       "      <td>19</td>\n",
       "      <td>26</td>\n",
       "      <td>16500</td>\n",
       "    </tr>\n",
       "    <tr>\n",
       "      <td>3</td>\n",
       "      <td>2</td>\n",
       "      <td>164</td>\n",
       "      <td>audi</td>\n",
       "      <td>gas</td>\n",
       "      <td>std</td>\n",
       "      <td>four</td>\n",
       "      <td>sedan</td>\n",
       "      <td>fwd</td>\n",
       "      <td>front</td>\n",
       "      <td>99.8</td>\n",
       "      <td>...</td>\n",
       "      <td>109</td>\n",
       "      <td>mpfi</td>\n",
       "      <td>3.19</td>\n",
       "      <td>3.4</td>\n",
       "      <td>10.0</td>\n",
       "      <td>102</td>\n",
       "      <td>5500</td>\n",
       "      <td>24</td>\n",
       "      <td>30</td>\n",
       "      <td>13950</td>\n",
       "    </tr>\n",
       "    <tr>\n",
       "      <td>4</td>\n",
       "      <td>2</td>\n",
       "      <td>164</td>\n",
       "      <td>audi</td>\n",
       "      <td>gas</td>\n",
       "      <td>std</td>\n",
       "      <td>four</td>\n",
       "      <td>sedan</td>\n",
       "      <td>4wd</td>\n",
       "      <td>front</td>\n",
       "      <td>99.4</td>\n",
       "      <td>...</td>\n",
       "      <td>136</td>\n",
       "      <td>mpfi</td>\n",
       "      <td>3.19</td>\n",
       "      <td>3.4</td>\n",
       "      <td>8.0</td>\n",
       "      <td>115</td>\n",
       "      <td>5500</td>\n",
       "      <td>18</td>\n",
       "      <td>22</td>\n",
       "      <td>17450</td>\n",
       "    </tr>\n",
       "  </tbody>\n",
       "</table>\n",
       "<p>5 rows × 26 columns</p>\n",
       "</div>"
      ],
      "text/plain": [
       "   symboling normalized-losses         make fuel-type aspiration num-of-doors  \\\n",
       "0          3                 ?  alfa-romero       gas        std          two   \n",
       "1          3                 ?  alfa-romero       gas        std          two   \n",
       "2          1                 ?  alfa-romero       gas        std          two   \n",
       "3          2               164         audi       gas        std         four   \n",
       "4          2               164         audi       gas        std         four   \n",
       "\n",
       "    body-style drive-wheels engine-location  wheel-base  ...  engine-size  \\\n",
       "0  convertible          rwd           front        88.6  ...          130   \n",
       "1  convertible          rwd           front        88.6  ...          130   \n",
       "2    hatchback          rwd           front        94.5  ...          152   \n",
       "3        sedan          fwd           front        99.8  ...          109   \n",
       "4        sedan          4wd           front        99.4  ...          136   \n",
       "\n",
       "   fuel-system  bore  stroke compression-ratio horsepower  peak-rpm city-mpg  \\\n",
       "0         mpfi  3.47    2.68               9.0        111      5000       21   \n",
       "1         mpfi  3.47    2.68               9.0        111      5000       21   \n",
       "2         mpfi  2.68    3.47               9.0        154      5000       19   \n",
       "3         mpfi  3.19     3.4              10.0        102      5500       24   \n",
       "4         mpfi  3.19     3.4               8.0        115      5500       18   \n",
       "\n",
       "  highway-mpg  price  \n",
       "0          27  13495  \n",
       "1          27  16500  \n",
       "2          26  16500  \n",
       "3          30  13950  \n",
       "4          22  17450  \n",
       "\n",
       "[5 rows x 26 columns]"
      ]
     },
     "execution_count": 3,
     "metadata": {},
     "output_type": "execute_result"
    }
   ],
   "source": [
    "df.head()"
   ]
  },
  {
   "cell_type": "markdown",
   "metadata": {},
   "source": [
    "### Data Preprocessing"
   ]
  },
  {
   "cell_type": "markdown",
   "metadata": {},
   "source": [
    "Find which features are objects and convert them to string formula for LabelEncoder and Fill NaN"
   ]
  },
  {
   "cell_type": "code",
   "execution_count": 4,
   "metadata": {},
   "outputs": [],
   "source": [
    "df = df.replace('?', np.nan)"
   ]
  },
  {
   "cell_type": "code",
   "execution_count": 5,
   "metadata": {
    "scrolled": true
   },
   "outputs": [
    {
     "name": "stdout",
     "output_type": "stream",
     "text": [
      "[1, 2, 3, 4, 5, 6, 7, 8, 14, 15, 17, 18, 19, 21, 22, 25]\n"
     ]
    }
   ],
   "source": [
    "cat_index = []\n",
    "for i in range(df.shape[1]):\n",
    "    if df.iloc[:,i].dtype == object:\n",
    "        cat_index.append(i)\n",
    "print(cat_index)"
   ]
  },
  {
   "cell_type": "code",
   "execution_count": 6,
   "metadata": {},
   "outputs": [
    {
     "data": {
      "text/plain": [
       "normalized-losses    object\n",
       "make                 object\n",
       "fuel-type            object\n",
       "aspiration           object\n",
       "num-of-doors         object\n",
       "body-style           object\n",
       "drive-wheels         object\n",
       "engine-location      object\n",
       "engine-type          object\n",
       "num-of-cylinders     object\n",
       "fuel-system          object\n",
       "bore                 object\n",
       "stroke               object\n",
       "horsepower           object\n",
       "peak-rpm             object\n",
       "price                object\n",
       "dtype: object"
      ]
     },
     "execution_count": 6,
     "metadata": {},
     "output_type": "execute_result"
    }
   ],
   "source": [
    "df.iloc[:,cat_index].dtypes"
   ]
  },
  {
   "cell_type": "markdown",
   "metadata": {},
   "source": [
    "Let select the index of the categories features without the target (index - 25)"
   ]
  },
  {
   "cell_type": "code",
   "execution_count": 7,
   "metadata": {},
   "outputs": [],
   "source": [
    "cat_index = cat_index[:-1]"
   ]
  },
  {
   "cell_type": "markdown",
   "metadata": {},
   "source": [
    "Converting to String Formula:"
   ]
  },
  {
   "cell_type": "code",
   "execution_count": 8,
   "metadata": {},
   "outputs": [],
   "source": [
    "for i in cat_index:\n",
    "    df.iloc[:,i] = df.iloc[:,i].astype('str')"
   ]
  },
  {
   "cell_type": "markdown",
   "metadata": {},
   "source": [
    "Data engineering with LableEncoder:"
   ]
  },
  {
   "cell_type": "code",
   "execution_count": 9,
   "metadata": {
    "scrolled": true
   },
   "outputs": [],
   "source": [
    "for i in cat_index:\n",
    "    encode = LabelEncoder()\n",
    "    df[df.iloc[:,i].name] = encode.fit_transform(df[df.iloc[:,i].name])"
   ]
  },
  {
   "cell_type": "markdown",
   "metadata": {},
   "source": [
    "Select features with missing values, drop features that more than quarter of the sample space, and fill the features with mode."
   ]
  },
  {
   "cell_type": "code",
   "execution_count": 10,
   "metadata": {},
   "outputs": [],
   "source": [
    "col_miss_val = []   \n",
    "for i in range(df.shape[1]):\n",
    "    if df.isna().sum()[i] != 0:\n",
    "        col_miss_val.append(df.columns.to_list()[i])\n",
    "    else:\n",
    "        continue  \n",
    "\n",
    "for i in col_miss_val:        \n",
    "    if df[i].isna().sum() > int(df.shape[0]/4):\n",
    "        df.drop(i,axis=1,inplace=True)\n",
    "    else:\n",
    "        continue\n",
    "        \n",
    "Frequent = []\n",
    "for i in col_miss_val:\n",
    "    Frequent.append(df[i].mode())\n",
    "\n",
    "for i, k in zip(col_miss_val, range(len(col_miss_val))):\n",
    "    df[i] = df[i].fillna(Frequent[k])\n",
    "    \n",
    "df = df.dropna()"
   ]
  },
  {
   "cell_type": "code",
   "execution_count": 11,
   "metadata": {
    "scrolled": true
   },
   "outputs": [
    {
     "data": {
      "text/plain": [
       "symboling            0\n",
       "normalized-losses    0\n",
       "make                 0\n",
       "fuel-type            0\n",
       "aspiration           0\n",
       "num-of-doors         0\n",
       "body-style           0\n",
       "drive-wheels         0\n",
       "engine-location      0\n",
       "wheel-base           0\n",
       "length               0\n",
       "width                0\n",
       "height               0\n",
       "curb-weight          0\n",
       "engine-type          0\n",
       "num-of-cylinders     0\n",
       "engine-size          0\n",
       "fuel-system          0\n",
       "bore                 0\n",
       "stroke               0\n",
       "compression-ratio    0\n",
       "horsepower           0\n",
       "peak-rpm             0\n",
       "city-mpg             0\n",
       "highway-mpg          0\n",
       "price                0\n",
       "dtype: int64"
      ]
     },
     "execution_count": 11,
     "metadata": {},
     "output_type": "execute_result"
    }
   ],
   "source": [
    "df.isna().sum()"
   ]
  },
  {
   "cell_type": "markdown",
   "metadata": {},
   "source": [
    "Scale the data for better observation about the conncetion of the features with the target "
   ]
  },
  {
   "cell_type": "code",
   "execution_count": 12,
   "metadata": {},
   "outputs": [],
   "source": [
    "scaler = MinMaxScaler()\n",
    "df_scaled = scaler.fit_transform(df.iloc[:,:-1].values)\n",
    "df = pd.DataFrame(data=np.concatenate((df_scaled, df.iloc[:,-1].values.reshape((-1,1))), axis=1), columns=df.columns.to_list())"
   ]
  },
  {
   "cell_type": "code",
   "execution_count": 13,
   "metadata": {
    "scrolled": true
   },
   "outputs": [
    {
     "data": {
      "text/html": [
       "<div>\n",
       "<style scoped>\n",
       "    .dataframe tbody tr th:only-of-type {\n",
       "        vertical-align: middle;\n",
       "    }\n",
       "\n",
       "    .dataframe tbody tr th {\n",
       "        vertical-align: top;\n",
       "    }\n",
       "\n",
       "    .dataframe thead th {\n",
       "        text-align: right;\n",
       "    }\n",
       "</style>\n",
       "<table border=\"1\" class=\"dataframe\">\n",
       "  <thead>\n",
       "    <tr style=\"text-align: right;\">\n",
       "      <th></th>\n",
       "      <th>symboling</th>\n",
       "      <th>normalized-losses</th>\n",
       "      <th>make</th>\n",
       "      <th>fuel-type</th>\n",
       "      <th>aspiration</th>\n",
       "      <th>num-of-doors</th>\n",
       "      <th>body-style</th>\n",
       "      <th>drive-wheels</th>\n",
       "      <th>engine-location</th>\n",
       "      <th>wheel-base</th>\n",
       "      <th>...</th>\n",
       "      <th>engine-size</th>\n",
       "      <th>fuel-system</th>\n",
       "      <th>bore</th>\n",
       "      <th>stroke</th>\n",
       "      <th>compression-ratio</th>\n",
       "      <th>horsepower</th>\n",
       "      <th>peak-rpm</th>\n",
       "      <th>city-mpg</th>\n",
       "      <th>highway-mpg</th>\n",
       "      <th>price</th>\n",
       "    </tr>\n",
       "  </thead>\n",
       "  <tbody>\n",
       "    <tr>\n",
       "      <td>0</td>\n",
       "      <td>1</td>\n",
       "      <td>1</td>\n",
       "      <td>0</td>\n",
       "      <td>1</td>\n",
       "      <td>0</td>\n",
       "      <td>1</td>\n",
       "      <td>0</td>\n",
       "      <td>1</td>\n",
       "      <td>0</td>\n",
       "      <td>0.058309</td>\n",
       "      <td>...</td>\n",
       "      <td>0.260377</td>\n",
       "      <td>0.714286</td>\n",
       "      <td>0.605263</td>\n",
       "      <td>0.111111</td>\n",
       "      <td>0.125</td>\n",
       "      <td>0.0847458</td>\n",
       "      <td>0.434783</td>\n",
       "      <td>0.222222</td>\n",
       "      <td>0.289474</td>\n",
       "      <td>13495</td>\n",
       "    </tr>\n",
       "    <tr>\n",
       "      <td>1</td>\n",
       "      <td>1</td>\n",
       "      <td>1</td>\n",
       "      <td>0</td>\n",
       "      <td>1</td>\n",
       "      <td>0</td>\n",
       "      <td>1</td>\n",
       "      <td>0</td>\n",
       "      <td>1</td>\n",
       "      <td>0</td>\n",
       "      <td>0.058309</td>\n",
       "      <td>...</td>\n",
       "      <td>0.260377</td>\n",
       "      <td>0.714286</td>\n",
       "      <td>0.605263</td>\n",
       "      <td>0.111111</td>\n",
       "      <td>0.125</td>\n",
       "      <td>0.0847458</td>\n",
       "      <td>0.434783</td>\n",
       "      <td>0.222222</td>\n",
       "      <td>0.289474</td>\n",
       "      <td>16500</td>\n",
       "    </tr>\n",
       "    <tr>\n",
       "      <td>2</td>\n",
       "      <td>0.6</td>\n",
       "      <td>1</td>\n",
       "      <td>0</td>\n",
       "      <td>1</td>\n",
       "      <td>0</td>\n",
       "      <td>1</td>\n",
       "      <td>0.5</td>\n",
       "      <td>1</td>\n",
       "      <td>0</td>\n",
       "      <td>0.230321</td>\n",
       "      <td>...</td>\n",
       "      <td>0.343396</td>\n",
       "      <td>0.714286</td>\n",
       "      <td>0.0263158</td>\n",
       "      <td>0.75</td>\n",
       "      <td>0.125</td>\n",
       "      <td>0.338983</td>\n",
       "      <td>0.434783</td>\n",
       "      <td>0.166667</td>\n",
       "      <td>0.263158</td>\n",
       "      <td>16500</td>\n",
       "    </tr>\n",
       "    <tr>\n",
       "      <td>3</td>\n",
       "      <td>0.8</td>\n",
       "      <td>0.529412</td>\n",
       "      <td>0.047619</td>\n",
       "      <td>1</td>\n",
       "      <td>0</td>\n",
       "      <td>0</td>\n",
       "      <td>0.75</td>\n",
       "      <td>0.5</td>\n",
       "      <td>0</td>\n",
       "      <td>0.38484</td>\n",
       "      <td>...</td>\n",
       "      <td>0.181132</td>\n",
       "      <td>0.714286</td>\n",
       "      <td>0.342105</td>\n",
       "      <td>0.666667</td>\n",
       "      <td>0.1875</td>\n",
       "      <td>0.0338983</td>\n",
       "      <td>0.695652</td>\n",
       "      <td>0.305556</td>\n",
       "      <td>0.368421</td>\n",
       "      <td>13950</td>\n",
       "    </tr>\n",
       "    <tr>\n",
       "      <td>4</td>\n",
       "      <td>0.8</td>\n",
       "      <td>0.529412</td>\n",
       "      <td>0.047619</td>\n",
       "      <td>1</td>\n",
       "      <td>0</td>\n",
       "      <td>0</td>\n",
       "      <td>0.75</td>\n",
       "      <td>0</td>\n",
       "      <td>0</td>\n",
       "      <td>0.373178</td>\n",
       "      <td>...</td>\n",
       "      <td>0.283019</td>\n",
       "      <td>0.714286</td>\n",
       "      <td>0.342105</td>\n",
       "      <td>0.666667</td>\n",
       "      <td>0.0625</td>\n",
       "      <td>0.135593</td>\n",
       "      <td>0.695652</td>\n",
       "      <td>0.138889</td>\n",
       "      <td>0.157895</td>\n",
       "      <td>17450</td>\n",
       "    </tr>\n",
       "    <tr>\n",
       "      <td>...</td>\n",
       "      <td>...</td>\n",
       "      <td>...</td>\n",
       "      <td>...</td>\n",
       "      <td>...</td>\n",
       "      <td>...</td>\n",
       "      <td>...</td>\n",
       "      <td>...</td>\n",
       "      <td>...</td>\n",
       "      <td>...</td>\n",
       "      <td>...</td>\n",
       "      <td>...</td>\n",
       "      <td>...</td>\n",
       "      <td>...</td>\n",
       "      <td>...</td>\n",
       "      <td>...</td>\n",
       "      <td>...</td>\n",
       "      <td>...</td>\n",
       "      <td>...</td>\n",
       "      <td>...</td>\n",
       "      <td>...</td>\n",
       "      <td>...</td>\n",
       "    </tr>\n",
       "    <tr>\n",
       "      <td>197</td>\n",
       "      <td>0.2</td>\n",
       "      <td>0.960784</td>\n",
       "      <td>1</td>\n",
       "      <td>1</td>\n",
       "      <td>0</td>\n",
       "      <td>0</td>\n",
       "      <td>0.75</td>\n",
       "      <td>1</td>\n",
       "      <td>0</td>\n",
       "      <td>0.655977</td>\n",
       "      <td>...</td>\n",
       "      <td>0.301887</td>\n",
       "      <td>0.714286</td>\n",
       "      <td>0.921053</td>\n",
       "      <td>0.416667</td>\n",
       "      <td>0.15625</td>\n",
       "      <td>0.118644</td>\n",
       "      <td>0.652174</td>\n",
       "      <td>0.277778</td>\n",
       "      <td>0.315789</td>\n",
       "      <td>16845</td>\n",
       "    </tr>\n",
       "    <tr>\n",
       "      <td>198</td>\n",
       "      <td>0.2</td>\n",
       "      <td>0.960784</td>\n",
       "      <td>1</td>\n",
       "      <td>1</td>\n",
       "      <td>1</td>\n",
       "      <td>0</td>\n",
       "      <td>0.75</td>\n",
       "      <td>1</td>\n",
       "      <td>0</td>\n",
       "      <td>0.655977</td>\n",
       "      <td>...</td>\n",
       "      <td>0.301887</td>\n",
       "      <td>0.714286</td>\n",
       "      <td>0.921053</td>\n",
       "      <td>0.416667</td>\n",
       "      <td>0.10625</td>\n",
       "      <td>0.389831</td>\n",
       "      <td>0.608696</td>\n",
       "      <td>0.166667</td>\n",
       "      <td>0.236842</td>\n",
       "      <td>19045</td>\n",
       "    </tr>\n",
       "    <tr>\n",
       "      <td>199</td>\n",
       "      <td>0.2</td>\n",
       "      <td>0.960784</td>\n",
       "      <td>1</td>\n",
       "      <td>1</td>\n",
       "      <td>0</td>\n",
       "      <td>0</td>\n",
       "      <td>0.75</td>\n",
       "      <td>1</td>\n",
       "      <td>0</td>\n",
       "      <td>0.655977</td>\n",
       "      <td>...</td>\n",
       "      <td>0.422642</td>\n",
       "      <td>0.714286</td>\n",
       "      <td>0.684211</td>\n",
       "      <td>0.194444</td>\n",
       "      <td>0.1125</td>\n",
       "      <td>0.220339</td>\n",
       "      <td>0.695652</td>\n",
       "      <td>0.138889</td>\n",
       "      <td>0.184211</td>\n",
       "      <td>21485</td>\n",
       "    </tr>\n",
       "    <tr>\n",
       "      <td>200</td>\n",
       "      <td>0.2</td>\n",
       "      <td>0.960784</td>\n",
       "      <td>1</td>\n",
       "      <td>0</td>\n",
       "      <td>1</td>\n",
       "      <td>0</td>\n",
       "      <td>0.75</td>\n",
       "      <td>1</td>\n",
       "      <td>0</td>\n",
       "      <td>0.655977</td>\n",
       "      <td>...</td>\n",
       "      <td>0.316981</td>\n",
       "      <td>0.428571</td>\n",
       "      <td>0.157895</td>\n",
       "      <td>0.666667</td>\n",
       "      <td>1</td>\n",
       "      <td>0.0508475</td>\n",
       "      <td>0.347826</td>\n",
       "      <td>0.361111</td>\n",
       "      <td>0.289474</td>\n",
       "      <td>22470</td>\n",
       "    </tr>\n",
       "    <tr>\n",
       "      <td>201</td>\n",
       "      <td>0.2</td>\n",
       "      <td>0.960784</td>\n",
       "      <td>1</td>\n",
       "      <td>1</td>\n",
       "      <td>1</td>\n",
       "      <td>0</td>\n",
       "      <td>0.75</td>\n",
       "      <td>1</td>\n",
       "      <td>0</td>\n",
       "      <td>0.655977</td>\n",
       "      <td>...</td>\n",
       "      <td>0.301887</td>\n",
       "      <td>0.714286</td>\n",
       "      <td>0.921053</td>\n",
       "      <td>0.416667</td>\n",
       "      <td>0.15625</td>\n",
       "      <td>0.118644</td>\n",
       "      <td>0.652174</td>\n",
       "      <td>0.166667</td>\n",
       "      <td>0.236842</td>\n",
       "      <td>22625</td>\n",
       "    </tr>\n",
       "  </tbody>\n",
       "</table>\n",
       "<p>202 rows × 26 columns</p>\n",
       "</div>"
      ],
      "text/plain": [
       "    symboling normalized-losses      make fuel-type aspiration num-of-doors  \\\n",
       "0           1                 1         0         1          0            1   \n",
       "1           1                 1         0         1          0            1   \n",
       "2         0.6                 1         0         1          0            1   \n",
       "3         0.8          0.529412  0.047619         1          0            0   \n",
       "4         0.8          0.529412  0.047619         1          0            0   \n",
       "..        ...               ...       ...       ...        ...          ...   \n",
       "197       0.2          0.960784         1         1          0            0   \n",
       "198       0.2          0.960784         1         1          1            0   \n",
       "199       0.2          0.960784         1         1          0            0   \n",
       "200       0.2          0.960784         1         0          1            0   \n",
       "201       0.2          0.960784         1         1          1            0   \n",
       "\n",
       "    body-style drive-wheels engine-location wheel-base  ... engine-size  \\\n",
       "0            0            1               0   0.058309  ...    0.260377   \n",
       "1            0            1               0   0.058309  ...    0.260377   \n",
       "2          0.5            1               0   0.230321  ...    0.343396   \n",
       "3         0.75          0.5               0    0.38484  ...    0.181132   \n",
       "4         0.75            0               0   0.373178  ...    0.283019   \n",
       "..         ...          ...             ...        ...  ...         ...   \n",
       "197       0.75            1               0   0.655977  ...    0.301887   \n",
       "198       0.75            1               0   0.655977  ...    0.301887   \n",
       "199       0.75            1               0   0.655977  ...    0.422642   \n",
       "200       0.75            1               0   0.655977  ...    0.316981   \n",
       "201       0.75            1               0   0.655977  ...    0.301887   \n",
       "\n",
       "    fuel-system       bore    stroke compression-ratio horsepower  peak-rpm  \\\n",
       "0      0.714286   0.605263  0.111111             0.125  0.0847458  0.434783   \n",
       "1      0.714286   0.605263  0.111111             0.125  0.0847458  0.434783   \n",
       "2      0.714286  0.0263158      0.75             0.125   0.338983  0.434783   \n",
       "3      0.714286   0.342105  0.666667            0.1875  0.0338983  0.695652   \n",
       "4      0.714286   0.342105  0.666667            0.0625   0.135593  0.695652   \n",
       "..          ...        ...       ...               ...        ...       ...   \n",
       "197    0.714286   0.921053  0.416667           0.15625   0.118644  0.652174   \n",
       "198    0.714286   0.921053  0.416667           0.10625   0.389831  0.608696   \n",
       "199    0.714286   0.684211  0.194444            0.1125   0.220339  0.695652   \n",
       "200    0.428571   0.157895  0.666667                 1  0.0508475  0.347826   \n",
       "201    0.714286   0.921053  0.416667           0.15625   0.118644  0.652174   \n",
       "\n",
       "     city-mpg highway-mpg  price  \n",
       "0    0.222222    0.289474  13495  \n",
       "1    0.222222    0.289474  16500  \n",
       "2    0.166667    0.263158  16500  \n",
       "3    0.305556    0.368421  13950  \n",
       "4    0.138889    0.157895  17450  \n",
       "..        ...         ...    ...  \n",
       "197  0.277778    0.315789  16845  \n",
       "198  0.166667    0.236842  19045  \n",
       "199  0.138889    0.184211  21485  \n",
       "200  0.361111    0.289474  22470  \n",
       "201  0.166667    0.236842  22625  \n",
       "\n",
       "[202 rows x 26 columns]"
      ]
     },
     "execution_count": 13,
     "metadata": {},
     "output_type": "execute_result"
    }
   ],
   "source": [
    "df"
   ]
  },
  {
   "cell_type": "markdown",
   "metadata": {},
   "source": [
    "### Feature Selection"
   ]
  },
  {
   "cell_type": "markdown",
   "metadata": {},
   "source": [
    "Split the data to training and validation sets"
   ]
  },
  {
   "cell_type": "code",
   "execution_count": 14,
   "metadata": {},
   "outputs": [],
   "source": [
    "X, y = df.iloc[:,:-1], df.iloc[:,-1]\n",
    "X_train, X_test, y_train, y_test = train_test_split(X, y, test_size=0.2, random_state=0)"
   ]
  },
  {
   "cell_type": "code",
   "execution_count": 15,
   "metadata": {},
   "outputs": [],
   "source": [
    "class Mutual_result(object):\n",
    "        \n",
    "    def __init__(self, X, y, n_folds, max_eval):\n",
    "        \"\"\"\n",
    "        Parameters\n",
    "        ----------\n",
    "        X: array-like {n_samples, n_features}\n",
    "            Training instances to compute the feature importance scores from\n",
    "        y: array-like {n_samples}\n",
    "            Training labels\n",
    "        -------\n",
    "        \"\"\"    \n",
    "        self.X = X\n",
    "        self.y = y\n",
    "        \n",
    "                          \n",
    "    def fit(X, y): \n",
    "        \n",
    "        scores_Mutual = []           \n",
    "        X_train, X_val, y_train, y_val = train_test_split(X, y, test_size=0.2, random_state=0)        \n",
    "        X_train = pd.DataFrame(data=X_train, columns=X.columns)        \n",
    "        scores = mutual_info_regression(np.array(X_train), np.array(y_train))                  \n",
    "        for i in range(X_train.shape[1]):\n",
    "            scores_Mutual.append((scores[i], X_train.columns[i]))\n",
    "            df_Mutual = pd.DataFrame(data=scores_Mutual, columns=('score', 'feature'))  \n",
    "            blankIndex=[''] * len(df_Mutual)\n",
    "            df_Mutual.index = blankIndex\n",
    "            df_Mutual = df_Mutual.sort_values(by='score', ascending=False)\n",
    "            \n",
    "        return df_Mutual"
   ]
  },
  {
   "cell_type": "code",
   "execution_count": 16,
   "metadata": {},
   "outputs": [],
   "source": [
    "df_Mutual = Mutual_result.fit(X,y)"
   ]
  },
  {
   "cell_type": "markdown",
   "metadata": {},
   "source": [
    "Features Scores:"
   ]
  },
  {
   "cell_type": "code",
   "execution_count": 17,
   "metadata": {},
   "outputs": [
    {
     "data": {
      "image/png": "[encoded data removed]",
      "text/plain": [
       "<Figure size 1800x576 with 1 Axes>"
      ]
     },
     "metadata": {
      "needs_background": "light"
     },
     "output_type": "display_data"
    }
   ],
   "source": [
    "plt.figure(figsize=(25,8))\n",
    "plt.hlines(y=0.5, xmin=-5, xmax=25, linestyle='--', color='r')\n",
    "plt.title('$Features\\ Thershold$')\n",
    "g = sns.barplot(x='feature', y='score', data=df_Mutual, color=\"LightSeaGreen\")\n",
    "plt.tight_layout()\n",
    "plt.show()"
   ]
  },
  {
   "cell_type": "markdown",
   "metadata": {},
   "source": [
    "### Create The model"
   ]
  },
  {
   "cell_type": "code",
   "execution_count": 18,
   "metadata": {},
   "outputs": [],
   "source": [
    "selected_feautres = df_Mutual[['feature']][df_Mutual['score'] > 0.5]['feature']"
   ]
  },
  {
   "cell_type": "code",
   "execution_count": 19,
   "metadata": {},
   "outputs": [],
   "source": [
    "X_train, X_test = X_train.loc[:,selected_feautres], X_test.loc[:, selected_feautres]"
   ]
  },
  {
   "cell_type": "code",
   "execution_count": 25,
   "metadata": {},
   "outputs": [],
   "source": [
    "X_train, X_test = X_train.values.astype(np.float32), X_test.values.astype(np.float32)\n",
    "y_train, y_test = y_train.values.astype(np.float32).reshape(-1,1), y_test.values.astype(np.float32).reshape(-1,1)"
   ]
  },
  {
   "cell_type": "markdown",
   "metadata": {},
   "source": [
    "### Model Selection\n",
    "\n",
    "\"We wish to select, from among the candidate models, the model that minimizes the information loss. We cannot choose with certainty, but we can minimize the estimated information loss.\""
   ]
  },
  {
   "cell_type": "code",
   "execution_count": 26,
   "metadata": {},
   "outputs": [],
   "source": [
    "import torch"
   ]
  },
  {
   "cell_type": "code",
   "execution_count": 27,
   "metadata": {},
   "outputs": [],
   "source": [
    "dtype = torch.float"
   ]
  },
  {
   "cell_type": "code",
   "execution_count": 28,
   "metadata": {},
   "outputs": [],
   "source": [
    "X_train_tensor = torch.tensor(X_train, dtype=dtype)\n",
    "X_test_tensor = torch.tensor(X_test, dtype=dtype)\n",
    "\n",
    "y_train_tensor = torch.tensor(y_train, dtype=dtype)\n",
    "y_test_tensor = torch.tensor(y_test, dtype=dtype)"
   ]
  },
  {
   "cell_type": "code",
   "execution_count": 33,
   "metadata": {},
   "outputs": [],
   "source": [
    "inp = 8\n",
    "out = 1\n",
    "loss_fn = torch.nn.MSELoss()\n",
    "lr = 0.0001"
   ]
  },
  {
   "cell_type": "code",
   "execution_count": 34,
   "metadata": {
    "scrolled": true
   },
   "outputs": [
    {
     "name": "stdout",
     "output_type": "stream",
     "text": [
      "Model with 100 of parameters, 0 iteration with 236062352.0 loss\n",
      "Model with 100 of parameters, 1000 iteration with 16854464.0 loss\n",
      "Model with 100 of parameters, 2000 iteration with 8649231.0 loss\n",
      "Model with 100 of parameters, 3000 iteration with 6382819.5 loss\n",
      "Model with 100 of parameters, 4000 iteration with 5106641.5 loss\n",
      "Model with 100 of parameters, 5000 iteration with 4475964.5 loss\n",
      "Model with 100 of parameters, 6000 iteration with 3957386.75 loss\n",
      "Model with 100 of parameters, 7000 iteration with 3673796.25 loss\n",
      "Model with 100 of parameters, 8000 iteration with 3492030.25 loss\n",
      "Model with 100 of parameters, 9000 iteration with 3348736.75 loss\n",
      "Model with 120 of parameters, 0 iteration with 236082480.0 loss\n",
      "Model with 120 of parameters, 1000 iteration with 15959039.0 loss\n",
      "Model with 120 of parameters, 2000 iteration with 8184969.0 loss\n",
      "Model with 120 of parameters, 3000 iteration with 5868814.0 loss\n",
      "Model with 120 of parameters, 4000 iteration with 4860888.5 loss\n",
      "Model with 120 of parameters, 5000 iteration with 4197661.0 loss\n",
      "Model with 120 of parameters, 6000 iteration with 3824549.75 loss\n",
      "Model with 120 of parameters, 7000 iteration with 3559454.0 loss\n",
      "Model with 120 of parameters, 8000 iteration with 3357314.25 loss\n",
      "Model with 120 of parameters, 9000 iteration with 3056176.0 loss\n",
      "Model with 140 of parameters, 0 iteration with 236090864.0 loss\n",
      "Model with 140 of parameters, 1000 iteration with 10888020.0 loss\n",
      "Model with 140 of parameters, 2000 iteration with 5696720.0 loss\n",
      "Model with 140 of parameters, 3000 iteration with 4362209.5 loss\n",
      "Model with 140 of parameters, 4000 iteration with 3559896.25 loss\n",
      "Model with 140 of parameters, 5000 iteration with 3140365.0 loss\n",
      "Model with 140 of parameters, 6000 iteration with 2870922.5 loss\n",
      "Model with 140 of parameters, 7000 iteration with 2672276.25 loss\n",
      "Model with 140 of parameters, 8000 iteration with 2530926.5 loss\n",
      "Model with 140 of parameters, 9000 iteration with 2393405.25 loss\n",
      "Model with 160 of parameters, 0 iteration with 236074112.0 loss\n",
      "Model with 160 of parameters, 1000 iteration with 8302673.0 loss\n",
      "Model with 160 of parameters, 2000 iteration with 4770985.0 loss\n",
      "Model with 160 of parameters, 3000 iteration with 3642326.0 loss\n",
      "Model with 160 of parameters, 4000 iteration with 3122546.25 loss\n",
      "Model with 160 of parameters, 5000 iteration with 2756007.25 loss\n",
      "Model with 160 of parameters, 6000 iteration with 2523569.75 loss\n",
      "Model with 160 of parameters, 7000 iteration with 2369485.5 loss\n",
      "Model with 160 of parameters, 8000 iteration with 2250858.25 loss\n",
      "Model with 160 of parameters, 9000 iteration with 2158498.75 loss\n",
      "Model with 180 of parameters, 0 iteration with 236069584.0 loss\n",
      "Model with 180 of parameters, 1000 iteration with 7040950.5 loss\n",
      "Model with 180 of parameters, 2000 iteration with 4229933.0 loss\n",
      "Model with 180 of parameters, 3000 iteration with 3300793.5 loss\n",
      "Model with 180 of parameters, 4000 iteration with 2789961.75 loss\n",
      "Model with 180 of parameters, 5000 iteration with 2508781.0 loss\n",
      "Model with 180 of parameters, 6000 iteration with 2269342.5 loss\n",
      "Model with 180 of parameters, 7000 iteration with 2115816.5 loss\n",
      "Model with 180 of parameters, 8000 iteration with 2021592.875 loss\n",
      "Model with 180 of parameters, 9000 iteration with 1953630.0 loss\n"
     ]
    }
   ],
   "source": [
    "from sklearn.metrics import mean_squared_error\n",
    "from math import log\n",
    "\n",
    "aic = []\n",
    "\n",
    "# calculate aic for regression\n",
    "def calculate_aic(n, mse, num_params):\n",
    "    aic = n * log(mse) + 2 * num_params\n",
    "    return aic\n",
    "\n",
    "for hid in np.arange(100,200,20):   \n",
    "    model = torch.nn.Sequential(torch.nn.Linear(inp, hid),\n",
    "                                torch.nn.Sigmoid(),\n",
    "                                torch.nn.Linear(hid, out))\n",
    "    \n",
    "    for iter in range(10000):  \n",
    "        y_pred = model(X_train_tensor)\n",
    "        loss = loss_fn(y_pred, y_train_tensor)\n",
    "        \n",
    "        if iter % 1000 == 0:\n",
    "            print(f'Model with {hid} of parameters, {iter} iteration with {loss} loss') \n",
    "            \n",
    "        \n",
    "        model.zero_grad()\n",
    "        loss.backward()\n",
    "        \n",
    "        with torch.no_grad():\n",
    "            for param in model.parameters():\n",
    "                param -= lr * param.grad\n",
    "    \n",
    "    y_pred_tensor = model(X_test_tensor)\n",
    "    y_pred = y_pred_tensor.detach().numpy()\n",
    "    mse = mean_squared_error(y_test, y_pred)\n",
    "    aic.append(calculate_aic(len(y_pred), mse, hid))"
   ]
  },
  {
   "cell_type": "code",
   "execution_count": 35,
   "metadata": {
    "scrolled": true
   },
   "outputs": [
    {
     "data": {
      "image/png": "[encoded data removed]",
      "text/plain": [
       "<Figure size 576x432 with 1 Axes>"
      ]
     },
     "metadata": {
      "needs_background": "light"
     },
     "output_type": "display_data"
    }
   ],
   "source": [
    "import matplotlib.pyplot as plt\n",
    "%matplotlib inline\n",
    "hidden = []\n",
    "for hid in np.arange(100,200,20):   \n",
    "    hidden.append(hid)\n",
    "plt.figure(figsize=(8,6))\n",
    "plt.grid(True)\n",
    "plt.title('$Model\\ Selection\\ With\\ AIC$')\n",
    "plt.scatter(hidden, aic, c='red')\n",
    "plt.style.use('seaborn-paper')\n",
    "plt.xlabel('$Hidden\\ Size$')\n",
    "plt.ylabel('$AIC\\ Score$')\n",
    "plt.xticks(hidden)\n",
    "plt.yticks(aic)\n",
    "plt.tight_layout()\n",
    "plt.show()"
   ]
  },
  {
   "cell_type": "markdown",
   "metadata": {},
   "source": [
    "We will train the model with 100 hidden size parametres:"
   ]
  },
  {
   "cell_type": "code",
   "execution_count": 36,
   "metadata": {
    "scrolled": true
   },
   "outputs": [
    {
     "name": "stdout",
     "output_type": "stream",
     "text": [
      "0 236058560.0\n",
      "1000 16048446.0\n",
      "2000 8425548.0\n",
      "3000 6297697.0\n",
      "4000 5116332.0\n",
      "5000 4469681.0\n",
      "6000 4068180.5\n",
      "7000 3753253.5\n",
      "8000 3553235.0\n",
      "9000 3388932.5\n"
     ]
    }
   ],
   "source": [
    "inp = X_train_tensor.shape[1]\n",
    "out = y_train_tensor.shape[1]\n",
    "hid = 100\n",
    "loss_fn = torch.nn.MSELoss()\n",
    "lr = 0.0001\n",
    "\n",
    "model = torch.nn.Sequential(torch.nn.Linear(inp, hid),\n",
    "                            torch.nn.Sigmoid(),\n",
    "                            torch.nn.Linear(hid, out))\n",
    "\n",
    "for iter in range(10000):  \n",
    "    y_pred = model(X_train_tensor)\n",
    "    loss = loss_fn(y_pred, y_train_tensor)\n",
    "    \n",
    "    if iter % 1000 == 0:\n",
    "        print(iter, loss.item())\n",
    "    \n",
    "    model.zero_grad()\n",
    "    loss.backward()\n",
    "\n",
    "    with torch.no_grad():\n",
    "        for param in model.parameters():\n",
    "            param -= lr * param.grad\n",
    "            \n",
    "y_pred_tensor = model(X_test_tensor)\n",
    "y_pred = y_pred_tensor.detach().numpy()"
   ]
  },
  {
   "cell_type": "markdown",
   "metadata": {},
   "source": [
    "Lets plot the residual and the predicted values vs. true values:"
   ]
  },
  {
   "cell_type": "code",
   "execution_count": 46,
   "metadata": {
    "scrolled": true
   },
   "outputs": [
    {
     "data": {
      "image/png": "[encoded data removed]",
      "text/plain": [
       "<Figure size 576x432 with 1 Axes>"
      ]
     },
     "metadata": {
      "needs_background": "light"
     },
     "output_type": "display_data"
    }
   ],
   "source": [
    "import matplotlib.pyplot as plt\n",
    "%matplotlib inline\n",
    "plt.figure(figsize=(8,6))\n",
    "plt.scatter(y_pred, y_test)\n",
    "plt.style.use('seaborn-paper')\n",
    "plt.title('$Prediction\\ VS.\\ True\\ Values$')\n",
    "plt.xlabel('$Prediction$')\n",
    "plt.ylabel('$True\\ Value$')\n",
    "plt.tight_layout()\n",
    "plt.show()"
   ]
  },
  {
   "cell_type": "code",
   "execution_count": 49,
   "metadata": {},
   "outputs": [
    {
     "data": {
      "text/plain": [
       "<matplotlib.axes._subplots.AxesSubplot at 0x19a867b6888>"
      ]
     },
     "execution_count": 49,
     "metadata": {},
     "output_type": "execute_result"
    },
    {
     "data": {
      "image/png": "[encoded data removed]",
      "text/plain": [
       "<Figure size 576x432 with 1 Axes>"
      ]
     },
     "metadata": {},
     "output_type": "display_data"
    }
   ],
   "source": [
    "import seaborn as sns\n",
    "plt.figure(figsize=(8,6))\n",
    "# Finalize and render the figure\n",
    "sns.set(style=\"whitegrid\") \n",
    "# Plot the residuals after fitting a linear model\n",
    "sns.residplot(y_pred, y_test, lowess=False, color=\"g\")"
   ]
  },
  {
   "cell_type": "code",
   "execution_count": 42,
   "metadata": {},
   "outputs": [],
   "source": [
    "torch.save(model,'regression-1')"
   ]
  },
  {
   "cell_type": "code",
   "execution_count": 43,
   "metadata": {},
   "outputs": [],
   "source": [
    "model_1 = torch.load('regression-1')\n",
    "y_pred_tensor = model_1(X_test_tensor)\n",
    "y_pred = y_pred_tensor.detach().numpy()"
   ]
  },
  {
   "cell_type": "code",
   "execution_count": 50,
   "metadata": {},
   "outputs": [
    {
     "data": {
      "image/png": "[encoded data removed]",
      "text/plain": [
       "<Figure size 576x432 with 1 Axes>"
      ]
     },
     "metadata": {},
     "output_type": "display_data"
    }
   ],
   "source": [
    "plt.figure(figsize=(8,6))\n",
    "plt.style.use('seaborn-paper')\n",
    "plt.plot(y_pred, label='Predicted Price')\n",
    "plt.plot(y_test, label='Actual Price')\n",
    "plt.legend()\n",
    "plt.show()"
   ]
  }
 ],
 "metadata": {
  "kernelspec": {
   "display_name": "Python 3",
   "language": "python",
   "name": "python3"
  },
  "language_info": {
   "codemirror_mode": {
    "name": "ipython",
    "version": 3
   },
   "file_extension": ".py",
   "mimetype": "text/x-python",
   "name": "python",
   "nbconvert_exporter": "python",
   "pygments_lexer": "ipython3",
   "version": "3.7.4"
  }
 },
 "nbformat": 4,
 "nbformat_minor": 2
}
