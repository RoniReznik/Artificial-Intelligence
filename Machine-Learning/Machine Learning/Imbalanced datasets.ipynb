{
 "cells": [
  {
   "cell_type": "markdown",
   "metadata": {},
   "source": [
    "# Imbalanced datasets\n",
    "\n",
    "In this kernel we will know some techniques to handle highly unbalanced datasets, with a focus on resampling. The Porto Seguro's Safe Driver Prediction competition, used in this kernel, is a classic problem of unbalanced classes, since insurance claims can be considered unusual cases when considering all clients. Other classic examples of unbalanced classes are the detection of financial fraud and attacks on computer networks.\n",
    "\n",
    "Let's see how unbalanced the dataset is:"
   ]
  },
  {
   "cell_type": "code",
   "execution_count": 95,
   "metadata": {},
   "outputs": [],
   "source": [
    "import numpy as np\n",
    "import pandas as pd\n",
    "import matplotlib.pyplot as plt\n",
    "%matplotlib inline"
   ]
  },
  {
   "cell_type": "code",
   "execution_count": 3,
   "metadata": {},
   "outputs": [],
   "source": [
    "df_train = pd.read_csv('train.csv')"
   ]
  },
  {
   "cell_type": "code",
   "execution_count": 5,
   "metadata": {},
   "outputs": [
    {
     "data": {
      "text/plain": [
       "(595212, 59)"
      ]
     },
     "execution_count": 5,
     "metadata": {},
     "output_type": "execute_result"
    }
   ],
   "source": [
    "df_train.shape"
   ]
  },
  {
   "cell_type": "code",
   "execution_count": 7,
   "metadata": {},
   "outputs": [
    {
     "data": {
      "text/html": [
       "<div>\n",
       "<style scoped>\n",
       "    .dataframe tbody tr th:only-of-type {\n",
       "        vertical-align: middle;\n",
       "    }\n",
       "\n",
       "    .dataframe tbody tr th {\n",
       "        vertical-align: top;\n",
       "    }\n",
       "\n",
       "    .dataframe thead th {\n",
       "        text-align: right;\n",
       "    }\n",
       "</style>\n",
       "<table border=\"1\" class=\"dataframe\">\n",
       "  <thead>\n",
       "    <tr style=\"text-align: right;\">\n",
       "      <th></th>\n",
       "      <th>id</th>\n",
       "      <th>target</th>\n",
       "      <th>ps_ind_01</th>\n",
       "      <th>ps_ind_02_cat</th>\n",
       "      <th>ps_ind_03</th>\n",
       "      <th>ps_ind_04_cat</th>\n",
       "      <th>ps_ind_05_cat</th>\n",
       "      <th>ps_ind_06_bin</th>\n",
       "      <th>ps_ind_07_bin</th>\n",
       "      <th>ps_ind_08_bin</th>\n",
       "      <th>...</th>\n",
       "      <th>ps_calc_11</th>\n",
       "      <th>ps_calc_12</th>\n",
       "      <th>ps_calc_13</th>\n",
       "      <th>ps_calc_14</th>\n",
       "      <th>ps_calc_15_bin</th>\n",
       "      <th>ps_calc_16_bin</th>\n",
       "      <th>ps_calc_17_bin</th>\n",
       "      <th>ps_calc_18_bin</th>\n",
       "      <th>ps_calc_19_bin</th>\n",
       "      <th>ps_calc_20_bin</th>\n",
       "    </tr>\n",
       "  </thead>\n",
       "  <tbody>\n",
       "    <tr>\n",
       "      <th>0</th>\n",
       "      <td>7</td>\n",
       "      <td>0</td>\n",
       "      <td>2</td>\n",
       "      <td>2</td>\n",
       "      <td>5</td>\n",
       "      <td>1</td>\n",
       "      <td>0</td>\n",
       "      <td>0</td>\n",
       "      <td>1</td>\n",
       "      <td>0</td>\n",
       "      <td>...</td>\n",
       "      <td>9</td>\n",
       "      <td>1</td>\n",
       "      <td>5</td>\n",
       "      <td>8</td>\n",
       "      <td>0</td>\n",
       "      <td>1</td>\n",
       "      <td>1</td>\n",
       "      <td>0</td>\n",
       "      <td>0</td>\n",
       "      <td>1</td>\n",
       "    </tr>\n",
       "    <tr>\n",
       "      <th>1</th>\n",
       "      <td>9</td>\n",
       "      <td>0</td>\n",
       "      <td>1</td>\n",
       "      <td>1</td>\n",
       "      <td>7</td>\n",
       "      <td>0</td>\n",
       "      <td>0</td>\n",
       "      <td>0</td>\n",
       "      <td>0</td>\n",
       "      <td>1</td>\n",
       "      <td>...</td>\n",
       "      <td>3</td>\n",
       "      <td>1</td>\n",
       "      <td>1</td>\n",
       "      <td>9</td>\n",
       "      <td>0</td>\n",
       "      <td>1</td>\n",
       "      <td>1</td>\n",
       "      <td>0</td>\n",
       "      <td>1</td>\n",
       "      <td>0</td>\n",
       "    </tr>\n",
       "    <tr>\n",
       "      <th>2</th>\n",
       "      <td>13</td>\n",
       "      <td>0</td>\n",
       "      <td>5</td>\n",
       "      <td>4</td>\n",
       "      <td>9</td>\n",
       "      <td>1</td>\n",
       "      <td>0</td>\n",
       "      <td>0</td>\n",
       "      <td>0</td>\n",
       "      <td>1</td>\n",
       "      <td>...</td>\n",
       "      <td>4</td>\n",
       "      <td>2</td>\n",
       "      <td>7</td>\n",
       "      <td>7</td>\n",
       "      <td>0</td>\n",
       "      <td>1</td>\n",
       "      <td>1</td>\n",
       "      <td>0</td>\n",
       "      <td>1</td>\n",
       "      <td>0</td>\n",
       "    </tr>\n",
       "    <tr>\n",
       "      <th>3</th>\n",
       "      <td>16</td>\n",
       "      <td>0</td>\n",
       "      <td>0</td>\n",
       "      <td>1</td>\n",
       "      <td>2</td>\n",
       "      <td>0</td>\n",
       "      <td>0</td>\n",
       "      <td>1</td>\n",
       "      <td>0</td>\n",
       "      <td>0</td>\n",
       "      <td>...</td>\n",
       "      <td>2</td>\n",
       "      <td>2</td>\n",
       "      <td>4</td>\n",
       "      <td>9</td>\n",
       "      <td>0</td>\n",
       "      <td>0</td>\n",
       "      <td>0</td>\n",
       "      <td>0</td>\n",
       "      <td>0</td>\n",
       "      <td>0</td>\n",
       "    </tr>\n",
       "  </tbody>\n",
       "</table>\n",
       "<p>4 rows × 59 columns</p>\n",
       "</div>"
      ],
      "text/plain": [
       "   id  target  ps_ind_01  ps_ind_02_cat  ps_ind_03  ps_ind_04_cat  \\\n",
       "0   7       0          2              2          5              1   \n",
       "1   9       0          1              1          7              0   \n",
       "2  13       0          5              4          9              1   \n",
       "3  16       0          0              1          2              0   \n",
       "\n",
       "   ps_ind_05_cat  ps_ind_06_bin  ps_ind_07_bin  ps_ind_08_bin  ...  \\\n",
       "0              0              0              1              0  ...   \n",
       "1              0              0              0              1  ...   \n",
       "2              0              0              0              1  ...   \n",
       "3              0              1              0              0  ...   \n",
       "\n",
       "   ps_calc_11  ps_calc_12  ps_calc_13  ps_calc_14  ps_calc_15_bin  \\\n",
       "0           9           1           5           8               0   \n",
       "1           3           1           1           9               0   \n",
       "2           4           2           7           7               0   \n",
       "3           2           2           4           9               0   \n",
       "\n",
       "   ps_calc_16_bin  ps_calc_17_bin  ps_calc_18_bin  ps_calc_19_bin  \\\n",
       "0               1               1               0               0   \n",
       "1               1               1               0               1   \n",
       "2               1               1               0               1   \n",
       "3               0               0               0               0   \n",
       "\n",
       "   ps_calc_20_bin  \n",
       "0               1  \n",
       "1               0  \n",
       "2               0  \n",
       "3               0  \n",
       "\n",
       "[4 rows x 59 columns]"
      ]
     },
     "execution_count": 7,
     "metadata": {},
     "output_type": "execute_result"
    }
   ],
   "source": [
    "df_train.head(4)"
   ]
  },
  {
   "cell_type": "code",
   "execution_count": 9,
   "metadata": {},
   "outputs": [
    {
     "data": {
      "text/plain": [
       "0    573518\n",
       "1     21694\n",
       "Name: target, dtype: int64"
      ]
     },
     "execution_count": 9,
     "metadata": {},
     "output_type": "execute_result"
    }
   ],
   "source": [
    "target_count = df_train.target.value_counts()\n",
    "target_count"
   ]
  },
  {
   "cell_type": "code",
   "execution_count": 21,
   "metadata": {},
   "outputs": [
    {
     "name": "stdout",
     "output_type": "stream",
     "text": [
      "class 0: 573518\n",
      "class 1: 21694\n",
      "proportion: 26.44\n"
     ]
    },
    {
     "data": {
      "text/plain": [
       "<matplotlib.axes._subplots.AxesSubplot at 0x7f30ea8f1278>"
      ]
     },
     "execution_count": 21,
     "metadata": {},
     "output_type": "execute_result"
    },
    {
     "data": {
      "image/png": "[encoded data removed]",
      "text/plain": [
       "<Figure size 432x288 with 1 Axes>"
      ]
     },
     "metadata": {
      "needs_background": "light"
     },
     "output_type": "display_data"
    }
   ],
   "source": [
    "print('class 0:', target_count[0])\n",
    "print('class 1:', target_count[1])\n",
    "print('proportion:', round(target_count[0]/target_count[1], 2))\n",
    "target_count.plot(kind='bar', title='Count (target)')"
   ]
  },
  {
   "cell_type": "markdown",
   "metadata": {},
   "source": [
    "# The metric trap\n",
    "\n",
    "One of the major issues that novice users fall into when dealing with unbalanced datasets relates to the metrics used to evaluate their model. Using simpler metrics like accuracy_score can be misleading. In a dataset with highly unbalanced classes, if the classifier always \"predicts\" the most common class without performing any analysis of the features, it will still have a high accuracy rate, obviously illusory.\n",
    "\n",
    "Let's do this experiment, using simple cross-validation and no feature engineering:\n"
   ]
  },
  {
   "cell_type": "code",
   "execution_count": 34,
   "metadata": {},
   "outputs": [],
   "source": [
    "from xgboost import XGBClassifier\n",
    "from sklearn.model_selection import train_test_split\n",
    "from sklearn.metrics import accuracy_score"
   ]
  },
  {
   "cell_type": "code",
   "execution_count": 32,
   "metadata": {},
   "outputs": [],
   "source": [
    "X = df_train.drop(['id','target'],axis=1)\n",
    "y = df_train.target"
   ]
  },
  {
   "cell_type": "code",
   "execution_count": 35,
   "metadata": {},
   "outputs": [
    {
     "name": "stdout",
     "output_type": "stream",
     "text": [
      "Accuracy: 96.36%\n"
     ]
    }
   ],
   "source": [
    "X_train, X_test, y_train, y_test = train_test_split(X, y, test_size=0.2, random_state=1)\n",
    "\n",
    "model = XGBClassifier()\n",
    "model.fit(X_train, y_train)\n",
    "y_pred = model.predict(X_test)\n",
    "\n",
    "accuracy = accuracy_score(y_test, y_pred)\n",
    "print(\"Accuracy: %.2f%%\" % (accuracy * 100.0))"
   ]
  },
  {
   "cell_type": "markdown",
   "metadata": {},
   "source": [
    "Now let's run the same code, but using only one feature (which should drastically reduce the accuracy of the classifier):"
   ]
  },
  {
   "cell_type": "code",
   "execution_count": 39,
   "metadata": {},
   "outputs": [
    {
     "name": "stdout",
     "output_type": "stream",
     "text": [
      "Accuracy: 96.36%\n"
     ]
    }
   ],
   "source": [
    "model = XGBClassifier()\n",
    "model.fit(X_train[['ps_calc_01']], y_train)\n",
    "y_pred = model.predict(X_test[['ps_calc_01']])\n",
    "\n",
    "accuracy = accuracy_score(y_test, y_pred)\n",
    "print(\"Accuracy: %.2f%%\" % (accuracy * 100.0))"
   ]
  },
  {
   "cell_type": "markdown",
   "metadata": {},
   "source": [
    "As we can see, the high accuracy rate was just an illusion. In this way, the choice of the metric used in unbalanced datasets is extremely important. In this competition, the evaluation metric is the Normalized Gini Coefficient, a more robust metric for imbalanced datasets, that ranges from approximately 0 for random guessing, to approximately 0.5 for a perfect score."
   ]
  },
  {
   "cell_type": "markdown",
   "metadata": {},
   "source": [
    "# Confusion matrix\n",
    "\n",
    "An interesting way to evaluate the results is by means of a confusion matrix, which shows the correct and incorrect predictions for each class. In the first row, the first column indicates how many classes 0 were predicted correctly, and the second column, how many classes 0 were predicted as 1. In the second row, we note that all class 1 entries were erroneously predicted as class 0.\n",
    "\n",
    "Therefore, the higher the diagonal values of the confusion matrix the better, indicating many correct predictions.\n"
   ]
  },
  {
   "cell_type": "code",
   "execution_count": 40,
   "metadata": {},
   "outputs": [
    {
     "name": "stdout",
     "output_type": "stream",
     "text": [
      "Confusion matrix:\n",
      " [[114709      0]\n",
      " [  4334      0]]\n"
     ]
    },
    {
     "data": {
      "image/png": "[encoded data removed]",
      "text/plain": [
       "<Figure size 432x288 with 2 Axes>"
      ]
     },
     "metadata": {
      "needs_background": "light"
     },
     "output_type": "display_data"
    }
   ],
   "source": [
    "from sklearn.metrics import confusion_matrix\n",
    "from matplotlib import pyplot as plt\n",
    "\n",
    "conf_mat = confusion_matrix(y_true=y_test, y_pred=y_pred)\n",
    "print('Confusion matrix:\\n', conf_mat)\n",
    "\n",
    "labels = ['Class 0', 'Class 1']\n",
    "fig = plt.figure()\n",
    "ax = fig.add_subplot(111)\n",
    "cax = ax.matshow(conf_mat, cmap=plt.cm.Blues)\n",
    "fig.colorbar(cax)\n",
    "ax.set_xticklabels([''] + labels)\n",
    "ax.set_yticklabels([''] + labels)\n",
    "plt.xlabel('Predicted')\n",
    "plt.ylabel('Expected')\n",
    "plt.show()"
   ]
  },
  {
   "cell_type": "markdown",
   "metadata": {},
   "source": [
    "# Resampling\n",
    "\n",
    "A widely adopted technique for dealing with highly unbalanced datasets is called resampling. It consists of removing samples from the majority class (under-sampling) and / or adding more examples from the minority class (over-sampling).\n"
   ]
  },
  {
   "cell_type": "markdown",
   "metadata": {},
   "source": [
    "Despite the advantage of balancing classes, these techniques also have their weaknesses (there is no free lunch). The simplest implementation of over-sampling is to duplicate random records from the minority class, which can cause overfitting. In under-sampling, the simplest technique involves removing random records from the majority class, which can cause loss of information.\n",
    "\n",
    "Let's implement a basic example, which uses the DataFrame.sample method to get random samples each class:\n"
   ]
  },
  {
   "cell_type": "code",
   "execution_count": 41,
   "metadata": {},
   "outputs": [],
   "source": [
    "# Class count\n",
    "count_class_0, count_class_1 = df_train.target.value_counts()\n",
    "\n",
    "# Divide by class\n",
    "df_class_0 = df_train[df_train['target'] == 0]\n",
    "df_class_1 = df_train[df_train['target'] == 1]"
   ]
  },
  {
   "cell_type": "markdown",
   "metadata": {},
   "source": [
    "# Random under-sampling"
   ]
  },
  {
   "cell_type": "code",
   "execution_count": 44,
   "metadata": {},
   "outputs": [],
   "source": [
    "df_class_0_under = df_class_0.sample(count_class_1)"
   ]
  },
  {
   "cell_type": "code",
   "execution_count": 46,
   "metadata": {},
   "outputs": [],
   "source": [
    "df_test_under = pd.concat([df_class_0_under, df_class_1], axis=0)"
   ]
  },
  {
   "cell_type": "code",
   "execution_count": 48,
   "metadata": {},
   "outputs": [
    {
     "name": "stdout",
     "output_type": "stream",
     "text": [
      "Random under-sampling:\n",
      "1    21694\n",
      "0    21694\n",
      "Name: target, dtype: int64\n"
     ]
    },
    {
     "data": {
      "image/png": "[encoded data removed]",
      "text/plain": [
       "<Figure size 432x288 with 1 Axes>"
      ]
     },
     "metadata": {
      "needs_background": "light"
     },
     "output_type": "display_data"
    }
   ],
   "source": [
    "print('Random under-sampling:')\n",
    "print(df_test_under.target.value_counts())\n",
    "\n",
    "df_test_under.target.value_counts().plot(kind='bar', title='Count (target)');"
   ]
  },
  {
   "cell_type": "markdown",
   "metadata": {},
   "source": [
    "# Random over-sampling"
   ]
  },
  {
   "cell_type": "code",
   "execution_count": 49,
   "metadata": {},
   "outputs": [
    {
     "name": "stdout",
     "output_type": "stream",
     "text": [
      "Random over sampling:\n",
      "1    573518\n",
      "0    573518\n",
      "Name: target, dtype: int64\n"
     ]
    },
    {
     "data": {
      "text/plain": [
       "<matplotlib.axes._subplots.AxesSubplot at 0x7f30ea972c50>"
      ]
     },
     "execution_count": 49,
     "metadata": {},
     "output_type": "execute_result"
    },
    {
     "data": {
      "image/png": "[encoded data removed]",
      "text/plain": [
       "<Figure size 432x288 with 1 Axes>"
      ]
     },
     "metadata": {
      "needs_background": "light"
     },
     "output_type": "display_data"
    }
   ],
   "source": [
    "df_class_1_over = df_class_1.sample(count_class_0, replace=True)\n",
    "df_test_over = pd.concat([df_class_0, df_class_1_over], axis=0)\n",
    "\n",
    "print('Random over sampling:')\n",
    "print(df_test_over.target.value_counts())\n",
    "\n",
    "df_test_over.target.value_counts().plot(kind='bar', title='count(target)')"
   ]
  },
  {
   "cell_type": "markdown",
   "metadata": {},
   "source": [
    "## Python imbalanced-learn module\n",
    "\n",
    "A number of more sophisticated resapling techniques have been proposed in the scientific literature.\n",
    "\n",
    "For example, we can cluster the records of the majority class, and do the under-sampling by removing records from each cluster, thus seeking to preserve information. In over-sampling, instead of creating exact copies of the minority class records, we can introduce small variations into those copies, creating more diverse synthetic samples.\n",
    "\n",
    "Let's apply some of these resampling techniques, using the Python library imbalanced-learn. It is compatible with scikit-learn and is part of scikit-learn-contrib projects.\n"
   ]
  },
  {
   "cell_type": "code",
   "execution_count": 50,
   "metadata": {},
   "outputs": [],
   "source": [
    "import imblearn"
   ]
  },
  {
   "cell_type": "markdown",
   "metadata": {},
   "source": [
    "For ease of visualization, let's create a small unbalanced sample dataset using the make_classification method:"
   ]
  },
  {
   "cell_type": "code",
   "execution_count": 112,
   "metadata": {},
   "outputs": [],
   "source": [
    "from sklearn.datasets import make_classification\n",
    "\n",
    "X, y = make_classification(\n",
    "    n_classes=2, class_sep=1.5, weights=[0.9,0.1],\n",
    "    n_informative=3, n_redundant=1, flip_y=0,\n",
    "    n_features=20, n_clusters_per_class=1,\n",
    "    n_samples=100, random_state=10\n",
    ")"
   ]
  },
  {
   "cell_type": "code",
   "execution_count": 88,
   "metadata": {},
   "outputs": [
    {
     "data": {
      "text/plain": [
       "(100, 20)"
      ]
     },
     "execution_count": 88,
     "metadata": {},
     "output_type": "execute_result"
    }
   ],
   "source": [
    "X.shape"
   ]
  },
  {
   "cell_type": "code",
   "execution_count": 89,
   "metadata": {},
   "outputs": [
    {
     "data": {
      "text/plain": [
       "(100,)"
      ]
     },
     "execution_count": 89,
     "metadata": {},
     "output_type": "execute_result"
    }
   ],
   "source": [
    "y.shape"
   ]
  },
  {
   "cell_type": "code",
   "execution_count": 113,
   "metadata": {},
   "outputs": [],
   "source": [
    "df = pd.DataFrame(X)"
   ]
  },
  {
   "cell_type": "code",
   "execution_count": 56,
   "metadata": {},
   "outputs": [
    {
     "data": {
      "text/html": [
       "<div>\n",
       "<style scoped>\n",
       "    .dataframe tbody tr th:only-of-type {\n",
       "        vertical-align: middle;\n",
       "    }\n",
       "\n",
       "    .dataframe tbody tr th {\n",
       "        vertical-align: top;\n",
       "    }\n",
       "\n",
       "    .dataframe thead th {\n",
       "        text-align: right;\n",
       "    }\n",
       "</style>\n",
       "<table border=\"1\" class=\"dataframe\">\n",
       "  <thead>\n",
       "    <tr style=\"text-align: right;\">\n",
       "      <th></th>\n",
       "      <th>0</th>\n",
       "      <th>1</th>\n",
       "      <th>2</th>\n",
       "      <th>3</th>\n",
       "      <th>4</th>\n",
       "      <th>5</th>\n",
       "      <th>6</th>\n",
       "      <th>7</th>\n",
       "      <th>8</th>\n",
       "      <th>9</th>\n",
       "      <th>10</th>\n",
       "      <th>11</th>\n",
       "      <th>12</th>\n",
       "      <th>13</th>\n",
       "      <th>14</th>\n",
       "      <th>15</th>\n",
       "      <th>16</th>\n",
       "      <th>17</th>\n",
       "      <th>18</th>\n",
       "      <th>19</th>\n",
       "    </tr>\n",
       "  </thead>\n",
       "  <tbody>\n",
       "    <tr>\n",
       "      <th>0</th>\n",
       "      <td>0.327419</td>\n",
       "      <td>-0.123936</td>\n",
       "      <td>0.377707</td>\n",
       "      <td>-0.650123</td>\n",
       "      <td>0.267562</td>\n",
       "      <td>1.228781</td>\n",
       "      <td>2.208772</td>\n",
       "      <td>-0.185977</td>\n",
       "      <td>0.238732</td>\n",
       "      <td>-2.565438</td>\n",
       "      <td>-0.383111</td>\n",
       "      <td>0.644056</td>\n",
       "      <td>0.104375</td>\n",
       "      <td>-1.703024</td>\n",
       "      <td>-0.510083</td>\n",
       "      <td>-0.108812</td>\n",
       "      <td>-0.230132</td>\n",
       "      <td>1.553707</td>\n",
       "      <td>1.497538</td>\n",
       "      <td>-1.476485</td>\n",
       "    </tr>\n",
       "    <tr>\n",
       "      <th>1</th>\n",
       "      <td>-0.843981</td>\n",
       "      <td>-0.018691</td>\n",
       "      <td>-0.841018</td>\n",
       "      <td>1.374583</td>\n",
       "      <td>0.157199</td>\n",
       "      <td>-0.599719</td>\n",
       "      <td>2.217041</td>\n",
       "      <td>-2.032194</td>\n",
       "      <td>-2.310214</td>\n",
       "      <td>-0.490477</td>\n",
       "      <td>-0.304583</td>\n",
       "      <td>1.360939</td>\n",
       "      <td>-1.844740</td>\n",
       "      <td>-0.341096</td>\n",
       "      <td>0.137243</td>\n",
       "      <td>1.704764</td>\n",
       "      <td>0.464255</td>\n",
       "      <td>1.225786</td>\n",
       "      <td>-0.842880</td>\n",
       "      <td>1.303258</td>\n",
       "    </tr>\n",
       "    <tr>\n",
       "      <th>2</th>\n",
       "      <td>-0.204642</td>\n",
       "      <td>0.472155</td>\n",
       "      <td>-0.140616</td>\n",
       "      <td>-2.902493</td>\n",
       "      <td>-1.513665</td>\n",
       "      <td>1.149545</td>\n",
       "      <td>2.283673</td>\n",
       "      <td>-0.809117</td>\n",
       "      <td>-1.723535</td>\n",
       "      <td>-0.958556</td>\n",
       "      <td>-0.259129</td>\n",
       "      <td>-0.279701</td>\n",
       "      <td>-1.431391</td>\n",
       "      <td>0.260146</td>\n",
       "      <td>-0.501306</td>\n",
       "      <td>-2.320545</td>\n",
       "      <td>0.422214</td>\n",
       "      <td>1.386474</td>\n",
       "      <td>-0.073335</td>\n",
       "      <td>0.586859</td>\n",
       "    </tr>\n",
       "    <tr>\n",
       "      <th>3</th>\n",
       "      <td>0.208274</td>\n",
       "      <td>-0.156982</td>\n",
       "      <td>0.063369</td>\n",
       "      <td>-0.545759</td>\n",
       "      <td>-0.395416</td>\n",
       "      <td>-2.679969</td>\n",
       "      <td>1.507772</td>\n",
       "      <td>0.391485</td>\n",
       "      <td>-0.487337</td>\n",
       "      <td>-0.946147</td>\n",
       "      <td>0.339852</td>\n",
       "      <td>-1.011854</td>\n",
       "      <td>-1.124795</td>\n",
       "      <td>0.347291</td>\n",
       "      <td>-1.078836</td>\n",
       "      <td>0.046923</td>\n",
       "      <td>-0.978324</td>\n",
       "      <td>1.100517</td>\n",
       "      <td>-0.697134</td>\n",
       "      <td>0.339577</td>\n",
       "    </tr>\n",
       "  </tbody>\n",
       "</table>\n",
       "</div>"
      ],
      "text/plain": [
       "         0         1         2         3         4         5         6   \\\n",
       "0  0.327419 -0.123936  0.377707 -0.650123  0.267562  1.228781  2.208772   \n",
       "1 -0.843981 -0.018691 -0.841018  1.374583  0.157199 -0.599719  2.217041   \n",
       "2 -0.204642  0.472155 -0.140616 -2.902493 -1.513665  1.149545  2.283673   \n",
       "3  0.208274 -0.156982  0.063369 -0.545759 -0.395416 -2.679969  1.507772   \n",
       "\n",
       "         7         8         9         10        11        12        13  \\\n",
       "0 -0.185977  0.238732 -2.565438 -0.383111  0.644056  0.104375 -1.703024   \n",
       "1 -2.032194 -2.310214 -0.490477 -0.304583  1.360939 -1.844740 -0.341096   \n",
       "2 -0.809117 -1.723535 -0.958556 -0.259129 -0.279701 -1.431391  0.260146   \n",
       "3  0.391485 -0.487337 -0.946147  0.339852 -1.011854 -1.124795  0.347291   \n",
       "\n",
       "         14        15        16        17        18        19  \n",
       "0 -0.510083 -0.108812 -0.230132  1.553707  1.497538 -1.476485  \n",
       "1  0.137243  1.704764  0.464255  1.225786 -0.842880  1.303258  \n",
       "2 -0.501306 -2.320545  0.422214  1.386474 -0.073335  0.586859  \n",
       "3 -1.078836  0.046923 -0.978324  1.100517 -0.697134  0.339577  "
      ]
     },
     "execution_count": 56,
     "metadata": {},
     "output_type": "execute_result"
    }
   ],
   "source": [
    "df.head(4)"
   ]
  },
  {
   "cell_type": "code",
   "execution_count": 114,
   "metadata": {},
   "outputs": [],
   "source": [
    "df['target']=y"
   ]
  },
  {
   "cell_type": "code",
   "execution_count": 58,
   "metadata": {},
   "outputs": [
    {
     "data": {
      "text/html": [
       "<div>\n",
       "<style scoped>\n",
       "    .dataframe tbody tr th:only-of-type {\n",
       "        vertical-align: middle;\n",
       "    }\n",
       "\n",
       "    .dataframe tbody tr th {\n",
       "        vertical-align: top;\n",
       "    }\n",
       "\n",
       "    .dataframe thead th {\n",
       "        text-align: right;\n",
       "    }\n",
       "</style>\n",
       "<table border=\"1\" class=\"dataframe\">\n",
       "  <thead>\n",
       "    <tr style=\"text-align: right;\">\n",
       "      <th></th>\n",
       "      <th>0</th>\n",
       "      <th>1</th>\n",
       "      <th>2</th>\n",
       "      <th>3</th>\n",
       "      <th>4</th>\n",
       "      <th>5</th>\n",
       "      <th>6</th>\n",
       "      <th>7</th>\n",
       "      <th>8</th>\n",
       "      <th>9</th>\n",
       "      <th>...</th>\n",
       "      <th>11</th>\n",
       "      <th>12</th>\n",
       "      <th>13</th>\n",
       "      <th>14</th>\n",
       "      <th>15</th>\n",
       "      <th>16</th>\n",
       "      <th>17</th>\n",
       "      <th>18</th>\n",
       "      <th>19</th>\n",
       "      <th>target</th>\n",
       "    </tr>\n",
       "  </thead>\n",
       "  <tbody>\n",
       "    <tr>\n",
       "      <th>0</th>\n",
       "      <td>0.327419</td>\n",
       "      <td>-0.123936</td>\n",
       "      <td>0.377707</td>\n",
       "      <td>-0.650123</td>\n",
       "      <td>0.267562</td>\n",
       "      <td>1.228781</td>\n",
       "      <td>2.208772</td>\n",
       "      <td>-0.185977</td>\n",
       "      <td>0.238732</td>\n",
       "      <td>-2.565438</td>\n",
       "      <td>...</td>\n",
       "      <td>0.644056</td>\n",
       "      <td>0.104375</td>\n",
       "      <td>-1.703024</td>\n",
       "      <td>-0.510083</td>\n",
       "      <td>-0.108812</td>\n",
       "      <td>-0.230132</td>\n",
       "      <td>1.553707</td>\n",
       "      <td>1.497538</td>\n",
       "      <td>-1.476485</td>\n",
       "      <td>0</td>\n",
       "    </tr>\n",
       "    <tr>\n",
       "      <th>1</th>\n",
       "      <td>-0.843981</td>\n",
       "      <td>-0.018691</td>\n",
       "      <td>-0.841018</td>\n",
       "      <td>1.374583</td>\n",
       "      <td>0.157199</td>\n",
       "      <td>-0.599719</td>\n",
       "      <td>2.217041</td>\n",
       "      <td>-2.032194</td>\n",
       "      <td>-2.310214</td>\n",
       "      <td>-0.490477</td>\n",
       "      <td>...</td>\n",
       "      <td>1.360939</td>\n",
       "      <td>-1.844740</td>\n",
       "      <td>-0.341096</td>\n",
       "      <td>0.137243</td>\n",
       "      <td>1.704764</td>\n",
       "      <td>0.464255</td>\n",
       "      <td>1.225786</td>\n",
       "      <td>-0.842880</td>\n",
       "      <td>1.303258</td>\n",
       "      <td>0</td>\n",
       "    </tr>\n",
       "    <tr>\n",
       "      <th>2</th>\n",
       "      <td>-0.204642</td>\n",
       "      <td>0.472155</td>\n",
       "      <td>-0.140616</td>\n",
       "      <td>-2.902493</td>\n",
       "      <td>-1.513665</td>\n",
       "      <td>1.149545</td>\n",
       "      <td>2.283673</td>\n",
       "      <td>-0.809117</td>\n",
       "      <td>-1.723535</td>\n",
       "      <td>-0.958556</td>\n",
       "      <td>...</td>\n",
       "      <td>-0.279701</td>\n",
       "      <td>-1.431391</td>\n",
       "      <td>0.260146</td>\n",
       "      <td>-0.501306</td>\n",
       "      <td>-2.320545</td>\n",
       "      <td>0.422214</td>\n",
       "      <td>1.386474</td>\n",
       "      <td>-0.073335</td>\n",
       "      <td>0.586859</td>\n",
       "      <td>0</td>\n",
       "    </tr>\n",
       "    <tr>\n",
       "      <th>3</th>\n",
       "      <td>0.208274</td>\n",
       "      <td>-0.156982</td>\n",
       "      <td>0.063369</td>\n",
       "      <td>-0.545759</td>\n",
       "      <td>-0.395416</td>\n",
       "      <td>-2.679969</td>\n",
       "      <td>1.507772</td>\n",
       "      <td>0.391485</td>\n",
       "      <td>-0.487337</td>\n",
       "      <td>-0.946147</td>\n",
       "      <td>...</td>\n",
       "      <td>-1.011854</td>\n",
       "      <td>-1.124795</td>\n",
       "      <td>0.347291</td>\n",
       "      <td>-1.078836</td>\n",
       "      <td>0.046923</td>\n",
       "      <td>-0.978324</td>\n",
       "      <td>1.100517</td>\n",
       "      <td>-0.697134</td>\n",
       "      <td>0.339577</td>\n",
       "      <td>0</td>\n",
       "    </tr>\n",
       "  </tbody>\n",
       "</table>\n",
       "<p>4 rows × 21 columns</p>\n",
       "</div>"
      ],
      "text/plain": [
       "          0         1         2         3         4         5         6  \\\n",
       "0  0.327419 -0.123936  0.377707 -0.650123  0.267562  1.228781  2.208772   \n",
       "1 -0.843981 -0.018691 -0.841018  1.374583  0.157199 -0.599719  2.217041   \n",
       "2 -0.204642  0.472155 -0.140616 -2.902493 -1.513665  1.149545  2.283673   \n",
       "3  0.208274 -0.156982  0.063369 -0.545759 -0.395416 -2.679969  1.507772   \n",
       "\n",
       "          7         8         9  ...        11        12        13        14  \\\n",
       "0 -0.185977  0.238732 -2.565438  ...  0.644056  0.104375 -1.703024 -0.510083   \n",
       "1 -2.032194 -2.310214 -0.490477  ...  1.360939 -1.844740 -0.341096  0.137243   \n",
       "2 -0.809117 -1.723535 -0.958556  ... -0.279701 -1.431391  0.260146 -0.501306   \n",
       "3  0.391485 -0.487337 -0.946147  ... -1.011854 -1.124795  0.347291 -1.078836   \n",
       "\n",
       "         15        16        17        18        19  target  \n",
       "0 -0.108812 -0.230132  1.553707  1.497538 -1.476485       0  \n",
       "1  1.704764  0.464255  1.225786 -0.842880  1.303258       0  \n",
       "2 -2.320545  0.422214  1.386474 -0.073335  0.586859       0  \n",
       "3  0.046923 -0.978324  1.100517 -0.697134  0.339577       0  \n",
       "\n",
       "[4 rows x 21 columns]"
      ]
     },
     "execution_count": 58,
     "metadata": {},
     "output_type": "execute_result"
    }
   ],
   "source": [
    "df.head(4)"
   ]
  },
  {
   "cell_type": "code",
   "execution_count": 59,
   "metadata": {},
   "outputs": [
    {
     "data": {
      "text/plain": [
       "<matplotlib.axes._subplots.AxesSubplot at 0x7f309fbce080>"
      ]
     },
     "execution_count": 59,
     "metadata": {},
     "output_type": "execute_result"
    },
    {
     "data": {
      "image/png": "[encoded data removed]",
      "text/plain": [
       "<Figure size 432x288 with 1 Axes>"
      ]
     },
     "metadata": {
      "needs_background": "light"
     },
     "output_type": "display_data"
    }
   ],
   "source": [
    "df.target.value_counts().plot(kind='bar', title='count(target)')"
   ]
  },
  {
   "cell_type": "markdown",
   "metadata": {},
   "source": [
    "We will also create a 2-dimensional plot function, plot_2d_space, to see the data distribution:"
   ]
  },
  {
   "cell_type": "markdown",
   "metadata": {},
   "source": [
    "Because the dataset has many dimensions (features) and our graphs will be 2D, we will reduce the size of the dataset using Principal Component Analysis (PCA):"
   ]
  },
  {
   "cell_type": "code",
   "execution_count": 115,
   "metadata": {},
   "outputs": [],
   "source": [
    "x = df.drop(['target'], axis=1)"
   ]
  },
  {
   "cell_type": "code",
   "execution_count": 116,
   "metadata": {},
   "outputs": [
    {
     "data": {
      "text/html": [
       "<div>\n",
       "<style scoped>\n",
       "    .dataframe tbody tr th:only-of-type {\n",
       "        vertical-align: middle;\n",
       "    }\n",
       "\n",
       "    .dataframe tbody tr th {\n",
       "        vertical-align: top;\n",
       "    }\n",
       "\n",
       "    .dataframe thead th {\n",
       "        text-align: right;\n",
       "    }\n",
       "</style>\n",
       "<table border=\"1\" class=\"dataframe\">\n",
       "  <thead>\n",
       "    <tr style=\"text-align: right;\">\n",
       "      <th></th>\n",
       "      <th>0</th>\n",
       "      <th>1</th>\n",
       "      <th>2</th>\n",
       "      <th>3</th>\n",
       "      <th>4</th>\n",
       "      <th>5</th>\n",
       "      <th>6</th>\n",
       "      <th>7</th>\n",
       "      <th>8</th>\n",
       "      <th>9</th>\n",
       "      <th>10</th>\n",
       "      <th>11</th>\n",
       "      <th>12</th>\n",
       "      <th>13</th>\n",
       "      <th>14</th>\n",
       "      <th>15</th>\n",
       "      <th>16</th>\n",
       "      <th>17</th>\n",
       "      <th>18</th>\n",
       "      <th>19</th>\n",
       "    </tr>\n",
       "  </thead>\n",
       "  <tbody>\n",
       "    <tr>\n",
       "      <th>0</th>\n",
       "      <td>0.327419</td>\n",
       "      <td>-0.123936</td>\n",
       "      <td>0.377707</td>\n",
       "      <td>-0.650123</td>\n",
       "      <td>0.267562</td>\n",
       "      <td>1.228781</td>\n",
       "      <td>2.208772</td>\n",
       "      <td>-0.185977</td>\n",
       "      <td>0.238732</td>\n",
       "      <td>-2.565438</td>\n",
       "      <td>-0.383111</td>\n",
       "      <td>0.644056</td>\n",
       "      <td>0.104375</td>\n",
       "      <td>-1.703024</td>\n",
       "      <td>-0.510083</td>\n",
       "      <td>-0.108812</td>\n",
       "      <td>-0.230132</td>\n",
       "      <td>1.553707</td>\n",
       "      <td>1.497538</td>\n",
       "      <td>-1.476485</td>\n",
       "    </tr>\n",
       "    <tr>\n",
       "      <th>1</th>\n",
       "      <td>-0.843981</td>\n",
       "      <td>-0.018691</td>\n",
       "      <td>-0.841018</td>\n",
       "      <td>1.374583</td>\n",
       "      <td>0.157199</td>\n",
       "      <td>-0.599719</td>\n",
       "      <td>2.217041</td>\n",
       "      <td>-2.032194</td>\n",
       "      <td>-2.310214</td>\n",
       "      <td>-0.490477</td>\n",
       "      <td>-0.304583</td>\n",
       "      <td>1.360939</td>\n",
       "      <td>-1.844740</td>\n",
       "      <td>-0.341096</td>\n",
       "      <td>0.137243</td>\n",
       "      <td>1.704764</td>\n",
       "      <td>0.464255</td>\n",
       "      <td>1.225786</td>\n",
       "      <td>-0.842880</td>\n",
       "      <td>1.303258</td>\n",
       "    </tr>\n",
       "    <tr>\n",
       "      <th>2</th>\n",
       "      <td>-0.204642</td>\n",
       "      <td>0.472155</td>\n",
       "      <td>-0.140616</td>\n",
       "      <td>-2.902493</td>\n",
       "      <td>-1.513665</td>\n",
       "      <td>1.149545</td>\n",
       "      <td>2.283673</td>\n",
       "      <td>-0.809117</td>\n",
       "      <td>-1.723535</td>\n",
       "      <td>-0.958556</td>\n",
       "      <td>-0.259129</td>\n",
       "      <td>-0.279701</td>\n",
       "      <td>-1.431391</td>\n",
       "      <td>0.260146</td>\n",
       "      <td>-0.501306</td>\n",
       "      <td>-2.320545</td>\n",
       "      <td>0.422214</td>\n",
       "      <td>1.386474</td>\n",
       "      <td>-0.073335</td>\n",
       "      <td>0.586859</td>\n",
       "    </tr>\n",
       "    <tr>\n",
       "      <th>3</th>\n",
       "      <td>0.208274</td>\n",
       "      <td>-0.156982</td>\n",
       "      <td>0.063369</td>\n",
       "      <td>-0.545759</td>\n",
       "      <td>-0.395416</td>\n",
       "      <td>-2.679969</td>\n",
       "      <td>1.507772</td>\n",
       "      <td>0.391485</td>\n",
       "      <td>-0.487337</td>\n",
       "      <td>-0.946147</td>\n",
       "      <td>0.339852</td>\n",
       "      <td>-1.011854</td>\n",
       "      <td>-1.124795</td>\n",
       "      <td>0.347291</td>\n",
       "      <td>-1.078836</td>\n",
       "      <td>0.046923</td>\n",
       "      <td>-0.978324</td>\n",
       "      <td>1.100517</td>\n",
       "      <td>-0.697134</td>\n",
       "      <td>0.339577</td>\n",
       "    </tr>\n",
       "  </tbody>\n",
       "</table>\n",
       "</div>"
      ],
      "text/plain": [
       "         0         1         2         3         4         5         6   \\\n",
       "0  0.327419 -0.123936  0.377707 -0.650123  0.267562  1.228781  2.208772   \n",
       "1 -0.843981 -0.018691 -0.841018  1.374583  0.157199 -0.599719  2.217041   \n",
       "2 -0.204642  0.472155 -0.140616 -2.902493 -1.513665  1.149545  2.283673   \n",
       "3  0.208274 -0.156982  0.063369 -0.545759 -0.395416 -2.679969  1.507772   \n",
       "\n",
       "         7         8         9         10        11        12        13  \\\n",
       "0 -0.185977  0.238732 -2.565438 -0.383111  0.644056  0.104375 -1.703024   \n",
       "1 -2.032194 -2.310214 -0.490477 -0.304583  1.360939 -1.844740 -0.341096   \n",
       "2 -0.809117 -1.723535 -0.958556 -0.259129 -0.279701 -1.431391  0.260146   \n",
       "3  0.391485 -0.487337 -0.946147  0.339852 -1.011854 -1.124795  0.347291   \n",
       "\n",
       "         14        15        16        17        18        19  \n",
       "0 -0.510083 -0.108812 -0.230132  1.553707  1.497538 -1.476485  \n",
       "1  0.137243  1.704764  0.464255  1.225786 -0.842880  1.303258  \n",
       "2 -0.501306 -2.320545  0.422214  1.386474 -0.073335  0.586859  \n",
       "3 -1.078836  0.046923 -0.978324  1.100517 -0.697134  0.339577  "
      ]
     },
     "execution_count": 116,
     "metadata": {},
     "output_type": "execute_result"
    }
   ],
   "source": [
    "x.head(4)"
   ]
  },
  {
   "cell_type": "code",
   "execution_count": 117,
   "metadata": {},
   "outputs": [
    {
     "name": "stdout",
     "output_type": "stream",
     "text": [
      "(100, 20)\n",
      "(100, 2)\n"
     ]
    }
   ],
   "source": [
    "from sklearn.decomposition import PCA\n",
    "\n",
    "pca = PCA(n_components=2)\n",
    "projected = pca.fit_transform(x)\n",
    "print(x.shape)\n",
    "print(projected.shape)"
   ]
  },
  {
   "cell_type": "code",
   "execution_count": 124,
   "metadata": {
    "scrolled": true
   },
   "outputs": [
    {
     "data": {
      "image/png": "[encoded data removed]",
      "text/plain": [
       "<Figure size 432x288 with 1 Axes>"
      ]
     },
     "metadata": {
      "needs_background": "light"
     },
     "output_type": "display_data"
    }
   ],
   "source": [
    "plt.scatter(projected[:, 0], projected[:, 1],\n",
    "            c=df.target, alpha=0.6)\n",
    "\n",
    "plt.xlabel('component 1')\n",
    "plt.ylabel('component 2')\n",
    "plt.show()"
   ]
  },
  {
   "cell_type": "markdown",
   "metadata": {},
   "source": [
    "## Random under-sampling and over-sampling with imbalanced-learn"
   ]
  },
  {
   "cell_type": "code",
   "execution_count": 125,
   "metadata": {},
   "outputs": [
    {
     "name": "stdout",
     "output_type": "stream",
     "text": [
      "Removed indexes: [50 27 49 42 80 45 33  7 59 13  4  8  9 14 16 40 67 70 71 74]\n"
     ]
    }
   ],
   "source": [
    "from imblearn.under_sampling import RandomUnderSampler\n",
    "\n",
    "rus = RandomUnderSampler(return_indices=True)\n",
    "X_rus, y_rus, id_rus = rus.fit_sample(projected, y)\n",
    "\n",
    "print('Removed indexes:', id_rus)"
   ]
  },
  {
   "cell_type": "code",
   "execution_count": 130,
   "metadata": {},
   "outputs": [
    {
     "data": {
      "image/png": "[encoded data removed]",
      "text/plain": [
       "<Figure size 432x288 with 1 Axes>"
      ]
     },
     "metadata": {
      "needs_background": "light"
     },
     "output_type": "display_data"
    }
   ],
   "source": [
    "plt.scatter(X_rus[:, 0], X_rus[:, 1],\n",
    "            c=y_rus, alpha=0.6)\n",
    "\n",
    "plt.xlabel('component 1')\n",
    "plt.ylabel('component 2')\n",
    "plt.show()"
   ]
  },
  {
   "cell_type": "code",
   "execution_count": 131,
   "metadata": {},
   "outputs": [
    {
     "name": "stdout",
     "output_type": "stream",
     "text": [
      "80 new random picked points\n"
     ]
    }
   ],
   "source": [
    "from imblearn.over_sampling import RandomOverSampler\n",
    "\n",
    "ros = RandomOverSampler()\n",
    "X_ros, y_ros = ros.fit_sample(projected, y)\n",
    "\n",
    "print(X_ros.shape[0] - X.shape[0], 'new random picked points')"
   ]
  },
  {
   "cell_type": "code",
   "execution_count": 133,
   "metadata": {},
   "outputs": [
    {
     "data": {
      "image/png": "[encoded data removed]",
      "text/plain": [
       "<Figure size 432x288 with 1 Axes>"
      ]
     },
     "metadata": {
      "needs_background": "light"
     },
     "output_type": "display_data"
    }
   ],
   "source": [
    "plt.scatter(X_ros[:, 0], X_ros[:, 1],\n",
    "            c=y_ros, alpha=0.6)\n",
    "\n",
    "plt.xlabel('component 1')\n",
    "plt.ylabel('component 2')\n",
    "plt.show()"
   ]
  },
  {
   "cell_type": "code",
   "execution_count": null,
   "metadata": {},
   "outputs": [],
   "source": []
  },
  {
   "cell_type": "code",
   "execution_count": null,
   "metadata": {},
   "outputs": [],
   "source": []
  },
  {
   "cell_type": "code",
   "execution_count": null,
   "metadata": {},
   "outputs": [],
   "source": []
  },
  {
   "cell_type": "code",
   "execution_count": null,
   "metadata": {},
   "outputs": [],
   "source": []
  }
 ],
 "metadata": {
  "kernelspec": {
   "display_name": "Python 3",
   "language": "python",
   "name": "python3"
  },
  "language_info": {
   "codemirror_mode": {
    "name": "ipython",
    "version": 3
   },
   "file_extension": ".py",
   "mimetype": "text/x-python",
   "name": "python",
   "nbconvert_exporter": "python",
   "pygments_lexer": "ipython3",
   "version": "3.6.7"
  }
 },
 "nbformat": 4,
 "nbformat_minor": 2
}
